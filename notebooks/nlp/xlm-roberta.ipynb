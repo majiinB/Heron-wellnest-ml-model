{
 "cells": [
  {
   "cell_type": "markdown",
   "id": "ba5d6aa3",
   "metadata": {},
   "source": [
    "# XLM-ROBERTA Fine Tuning Pipeline\n",
    "This notebook automates the fine tuning of NLP model XLM-ROBERTA\n"
   ]
  },
  {
   "cell_type": "markdown",
   "id": "299258df",
   "metadata": {},
   "source": [
    "## Setup & Imports\n"
   ]
  },
  {
   "cell_type": "code",
   "execution_count": 26,
   "id": "22748f6c",
   "metadata": {},
   "outputs": [],
   "source": [
    "from datasets import load_dataset, Dataset, DatasetDict\n",
    "from transformers import AutoTokenizer, AutoModelForSequenceClassification, TrainingArguments, Trainer\n",
    "from transformers.trainer_utils import get_last_checkpoint\n",
    "from transformers.tokenization_utils_base import PreTrainedTokenizerBase\n",
    "from torch.utils.data import DataLoader\n",
    "from sklearn.metrics import accuracy_score, f1_score, classification_report\n",
    "from sklearn.utils import resample\n",
    "from torch.nn import CrossEntropyLoss\n",
    "import torch\n",
    "import torch.nn as nn\n",
    "import torch.nn.functional as F\n",
    "import evaluate\n",
    "import numpy as np\n",
    "import pandas as pd\n",
    "import matplotlib.pyplot as plt\n",
    "import re\n",
    "import string\n",
    "from tqdm import tqdm\n",
    "from typing import List\n",
    "from collections import Counter"
   ]
  },
  {
   "cell_type": "markdown",
   "id": "0f3c53f9",
   "metadata": {},
   "source": [
    "## Configurations\n"
   ]
  },
  {
   "cell_type": "code",
   "execution_count": 2,
   "id": "d39530bc",
   "metadata": {},
   "outputs": [],
   "source": [
    "DATA_PATHS = [\n",
    "  \"../../data/nlp/tweet_emotions.csv\",\n",
    "  \"../../data/nlp/Sentiment-analysis-for-mental-health.csv\"\n",
    "]\n",
    "MODEL_NAME = \"xlm-roberta-base\"\n",
    "\n",
    "MODEL_PATH_FINETUNE_1 = \"../../models/nlp/sentiment_finetune_1\"\n",
    "MODEL_PATH_MODEL_1 = \"../../models/nlp/sentiment_model_1\"\n",
    "\n",
    "MODEL_PATH_FINETUNE_2 = \"../../models/nlp/sentiment_finetune_2\"\n",
    "MODEL_PATH_MODEL_2 = \"../../models/nlp/sentiment_model_2\"\n"
   ]
  },
  {
   "cell_type": "markdown",
   "id": "652fa910",
   "metadata": {},
   "source": [
    "## Load Data"
   ]
  },
  {
   "cell_type": "code",
   "execution_count": 3,
   "id": "a0bdbffc",
   "metadata": {},
   "outputs": [
    {
     "name": "stdout",
     "output_type": "stream",
     "text": [
      "\n",
      "Dataset: tweet_emotions\n",
      "DatasetDict({\n",
      "    train: Dataset({\n",
      "        features: ['labels', 'text'],\n",
      "        num_rows: 40000\n",
      "    })\n",
      "})\n",
      "\n",
      "Dataset: Sentiment-analysis-for-mental-health\n",
      "DatasetDict({\n",
      "    train: Dataset({\n",
      "        features: ['text', 'labels'],\n",
      "        num_rows: 53043\n",
      "    })\n",
      "})\n"
     ]
    }
   ],
   "source": [
    "# Load two datasets\n",
    "dataset_1_broad_emotion = load_dataset(\"csv\", data_files=DATA_PATHS[0])\n",
    "dataset_2_specialize = load_dataset(\"csv\", data_files=DATA_PATHS[1])\n",
    "\n",
    "# Define functions to rename datasets\n",
    "def rename_data_columns(data: Dataset, column_names_to_change: List[str], new_column_names: List[str]) -> Dataset:\n",
    "    if len(column_names_to_change) != len(new_column_names):\n",
    "        raise ValueError(\"Both lists must have the same length.\")\n",
    "    \n",
    "    dataset = data\n",
    "    for old_name, new_name in zip(column_names_to_change, new_column_names):\n",
    "        dataset = dataset.rename_column(old_name, new_name)\n",
    "\n",
    "    print(dataset)\n",
    "    \n",
    "    return dataset\n",
    "\n",
    "# Remove unwanted column\n",
    "dataset_1_broad_emotion = dataset_1_broad_emotion.remove_columns([\"tweet_id\"])\n",
    "dataset_2_specialize = dataset_2_specialize.remove_columns([\"Unnamed: 0\"])\n",
    "\n",
    "# Rename\n",
    "print(\"\\nDataset: tweet_emotions\")\n",
    "dataset_1_broad_emotion = rename_data_columns(\n",
    "    data=dataset_1_broad_emotion,\n",
    "    column_names_to_change=['sentiment', 'content'],\n",
    "    new_column_names=['labels', 'text']\n",
    "  )\n",
    "\n",
    "print(\"\\nDataset: Sentiment-analysis-for-mental-health\")\n",
    "dataset_2_specialize = rename_data_columns(\n",
    "    data=dataset_2_specialize,\n",
    "    column_names_to_change=['status', 'statement'],\n",
    "    new_column_names=['labels', 'text']\n",
    "  )\n"
   ]
  },
  {
   "cell_type": "markdown",
   "id": "38d39e28",
   "metadata": {},
   "source": [
    "## Data Pre-processing & Visualization\n"
   ]
  },
  {
   "cell_type": "markdown",
   "id": "c8ab05fb",
   "metadata": {},
   "source": [
    "### Check unique labels\n",
    "\n"
   ]
  },
  {
   "cell_type": "markdown",
   "id": "8c2a13ee",
   "metadata": {},
   "source": [
    "#### labels visualization\n"
   ]
  },
  {
   "cell_type": "code",
   "execution_count": 4,
   "id": "fceac638",
   "metadata": {},
   "outputs": [
    {
     "name": "stdout",
     "output_type": "stream",
     "text": [
      "labels\n",
      "neutral       8638\n",
      "worry         8459\n",
      "happiness     5209\n",
      "sadness       5165\n",
      "love          3842\n",
      "surprise      2187\n",
      "fun           1776\n",
      "relief        1526\n",
      "hate          1323\n",
      "empty          827\n",
      "enthusiasm     759\n",
      "boredom        179\n",
      "anger          110\n",
      "Name: count, dtype: int64\n",
      "labels\n",
      "Normal                  16351\n",
      "Depression              15404\n",
      "Suicidal                10653\n",
      "Anxiety                  3888\n",
      "Bipolar                  2877\n",
      "Stress                   2669\n",
      "Personality disorder     1201\n",
      "Name: count, dtype: int64\n"
     ]
    },
    {
     "data": {
      "image/png": "[encoded data removed]",
      "text/plain": [
       "<Figure size 500x300 with 1 Axes>"
      ]
     },
     "metadata": {},
     "output_type": "display_data"
    },
    {
     "data": {
      "image/png": "[encoded data removed]",
      "text/plain": [
       "<Figure size 500x300 with 1 Axes>"
      ]
     },
     "metadata": {},
     "output_type": "display_data"
    }
   ],
   "source": [
    "def label_visualization():\n",
    "  # Convert data to pandas dataframe for visualization\n",
    "  df_dataset_1 = dataset_1_broad_emotion[\"train\"].to_pandas()\n",
    "  df_dataset_2 = dataset_2_specialize[\"train\"].to_pandas()\n",
    "\n",
    "  # Count label frequencies\n",
    "  label_for_df1_counts = df_dataset_1[\"labels\"].value_counts()\n",
    "  print(label_for_df1_counts)\n",
    "  label_for_df2_counts = df_dataset_2[\"labels\"].value_counts()\n",
    "  print(label_for_df2_counts)\n",
    "\n",
    "\n",
    "  # Plot distribution for df_dataset_1\n",
    "  plt.figure(figsize=(5, 3))\n",
    "  label_for_df1_counts.plot(kind=\"bar\")\n",
    "  plt.xticks(rotation=45, ha=\"right\")\n",
    "  plt.title(\"Label Distribution in df_dataset_1 (Train)\")\n",
    "  plt.xlabel(\"Labels\")\n",
    "  plt.ylabel(\"Count\")\n",
    "  plt.show()\n",
    "\n",
    "  # Plot distribution for df_dataset_2\n",
    "  plt.figure(figsize=(5, 3))\n",
    "  label_for_df2_counts.plot(kind=\"bar\")\n",
    "  plt.xticks(rotation=45, ha=\"right\")\n",
    "  plt.title(\"Label Distribution in df_dataset_2 (Train)\")\n",
    "  plt.xlabel(\"Labels\")\n",
    "  plt.ylabel(\"Count\")\n",
    "  plt.show()\n",
    "\n",
    "label_visualization()"
   ]
  },
  {
   "cell_type": "markdown",
   "id": "088c07c7",
   "metadata": {},
   "source": [
    "### Remove special characters"
   ]
  },
  {
   "cell_type": "code",
   "execution_count": 5,
   "id": "c4e10b99",
   "metadata": {},
   "outputs": [
    {
     "data": {
      "text/html": [
       "<div>\n",
       "<style scoped>\n",
       "    .dataframe tbody tr th:only-of-type {\n",
       "        vertical-align: middle;\n",
       "    }\n",
       "\n",
       "    .dataframe tbody tr th {\n",
       "        vertical-align: top;\n",
       "    }\n",
       "\n",
       "    .dataframe thead th {\n",
       "        text-align: right;\n",
       "    }\n",
       "</style>\n",
       "<table border=\"1\" class=\"dataframe\">\n",
       "  <thead>\n",
       "    <tr style=\"text-align: right;\">\n",
       "      <th></th>\n",
       "      <th>labels</th>\n",
       "      <th>text</th>\n",
       "    </tr>\n",
       "  </thead>\n",
       "  <tbody>\n",
       "    <tr>\n",
       "      <th>0</th>\n",
       "      <td>empty</td>\n",
       "      <td>tiffanylue i know i was listenin to bad habit ...</td>\n",
       "    </tr>\n",
       "    <tr>\n",
       "      <th>1</th>\n",
       "      <td>sadness</td>\n",
       "      <td>layin n bed with a headache ughhhhwaitin on yo...</td>\n",
       "    </tr>\n",
       "    <tr>\n",
       "      <th>2</th>\n",
       "      <td>sadness</td>\n",
       "      <td>funeral ceremonygloomy friday</td>\n",
       "    </tr>\n",
       "    <tr>\n",
       "      <th>3</th>\n",
       "      <td>enthusiasm</td>\n",
       "      <td>wants to hang out with friends soon</td>\n",
       "    </tr>\n",
       "    <tr>\n",
       "      <th>4</th>\n",
       "      <td>neutral</td>\n",
       "      <td>dannycastillo we want to trade with someone wh...</td>\n",
       "    </tr>\n",
       "  </tbody>\n",
       "</table>\n",
       "</div>"
      ],
      "text/plain": [
       "       labels                                               text\n",
       "0       empty  tiffanylue i know i was listenin to bad habit ...\n",
       "1     sadness  layin n bed with a headache ughhhhwaitin on yo...\n",
       "2     sadness                      funeral ceremonygloomy friday\n",
       "3  enthusiasm                wants to hang out with friends soon\n",
       "4     neutral  dannycastillo we want to trade with someone wh..."
      ]
     },
     "execution_count": 5,
     "metadata": {},
     "output_type": "execute_result"
    }
   ],
   "source": [
    "def clean_text(example):\n",
    "    text = example.get(\"text\", \"\")\n",
    "\n",
    "    if text is None or not isinstance(text, str) or text.strip() == \"\":\n",
    "        return {\"text\": \"\"}   # keep it empty; will be dropped later\n",
    "\n",
    "    # Lowercase\n",
    "    text = text.lower()\n",
    "\n",
    "    # Remove URLs\n",
    "    text = re.sub(r'https?://\\S+', '', text)\n",
    "\n",
    "    # Remove punctuation\n",
    "    text = text.translate(str.maketrans('', '', string.punctuation))\n",
    "\n",
    "    # Remove newlines and other non-word characters except spaces\n",
    "    text = re.sub(r'[^a-zA-Z\\s]', '', text)\n",
    "\n",
    "    # Remove words containing numbers\n",
    "    text = re.sub(r'\\w*\\d\\w*', '', text)\n",
    "\n",
    "    # Remove extra spaces\n",
    "    text = re.sub(r'\\s+', ' ', text).strip()\n",
    "\n",
    "    return {\"text\": text}\n",
    "\n",
    "\n",
    "dataset_1_broad_emotion = dataset_1_broad_emotion.map(clean_text)\n",
    "dataset_2_specialize = dataset_2_specialize.map(clean_text)\n",
    "\n",
    "df_1_peek = dataset_1_broad_emotion[\"train\"].to_pandas()\n",
    "df_2_peek = dataset_2_specialize[\"train\"].to_pandas()\n",
    "\n",
    "df_1_peek.head()"
   ]
  },
  {
   "cell_type": "code",
   "execution_count": 6,
   "id": "7fa754d7",
   "metadata": {},
   "outputs": [
    {
     "data": {
      "text/html": [
       "<div>\n",
       "<style scoped>\n",
       "    .dataframe tbody tr th:only-of-type {\n",
       "        vertical-align: middle;\n",
       "    }\n",
       "\n",
       "    .dataframe tbody tr th {\n",
       "        vertical-align: top;\n",
       "    }\n",
       "\n",
       "    .dataframe thead th {\n",
       "        text-align: right;\n",
       "    }\n",
       "</style>\n",
       "<table border=\"1\" class=\"dataframe\">\n",
       "  <thead>\n",
       "    <tr style=\"text-align: right;\">\n",
       "      <th></th>\n",
       "      <th>text</th>\n",
       "      <th>labels</th>\n",
       "    </tr>\n",
       "  </thead>\n",
       "  <tbody>\n",
       "    <tr>\n",
       "      <th>0</th>\n",
       "      <td>oh my gosh</td>\n",
       "      <td>Anxiety</td>\n",
       "    </tr>\n",
       "    <tr>\n",
       "      <th>1</th>\n",
       "      <td>trouble sleeping confused mind restless heart ...</td>\n",
       "      <td>Anxiety</td>\n",
       "    </tr>\n",
       "    <tr>\n",
       "      <th>2</th>\n",
       "      <td>all wrong back off dear forward doubt stay in ...</td>\n",
       "      <td>Anxiety</td>\n",
       "    </tr>\n",
       "    <tr>\n",
       "      <th>3</th>\n",
       "      <td>ive shifted my focus to something else but im ...</td>\n",
       "      <td>Anxiety</td>\n",
       "    </tr>\n",
       "    <tr>\n",
       "      <th>4</th>\n",
       "      <td>im restless and restless its been a month now ...</td>\n",
       "      <td>Anxiety</td>\n",
       "    </tr>\n",
       "  </tbody>\n",
       "</table>\n",
       "</div>"
      ],
      "text/plain": [
       "                                                text   labels\n",
       "0                                         oh my gosh  Anxiety\n",
       "1  trouble sleeping confused mind restless heart ...  Anxiety\n",
       "2  all wrong back off dear forward doubt stay in ...  Anxiety\n",
       "3  ive shifted my focus to something else but im ...  Anxiety\n",
       "4  im restless and restless its been a month now ...  Anxiety"
      ]
     },
     "execution_count": 6,
     "metadata": {},
     "output_type": "execute_result"
    }
   ],
   "source": [
    "df_2_peek.head()"
   ]
  },
  {
   "cell_type": "markdown",
   "id": "99a0131c",
   "metadata": {},
   "source": [
    "### Check for rows that has null or blank values"
   ]
  },
  {
   "cell_type": "code",
   "execution_count": 7,
   "id": "9db5fca1",
   "metadata": {},
   "outputs": [
    {
     "name": "stdout",
     "output_type": "stream",
     "text": [
      "Checking split: train in Dataset 1\n",
      "\n",
      "Nulls in each column:\n",
      "text      0\n",
      "labels    0\n",
      "dtype: int64\n",
      "\n",
      "\n",
      "Rows where text or labels are null/blank:\n",
      "Empty DataFrame\n",
      "Columns: [labels, text]\n",
      "Index: []\n",
      "\n",
      "\n",
      "Check for blank and empty string values:\n",
      "Blank texts: 4\n",
      "Blank labels: 0\n",
      "\n",
      "\n",
      "Checking split: train in Dataset 2\n",
      "\n",
      "Nulls in each column:\n",
      "text      0\n",
      "labels    0\n",
      "dtype: int64\n",
      "\n",
      "\n",
      "Rows where text or labels are null/blank:\n",
      "Empty DataFrame\n",
      "Columns: [text, labels]\n",
      "Index: []\n",
      "\n",
      "\n",
      "Check for blank and empty string values:\n",
      "Blank texts: 369\n",
      "Blank labels: 0\n",
      "\n",
      "\n"
     ]
    }
   ],
   "source": [
    "def check_for_null_blank(dataset, dataset_name=\"Dataset\"):\n",
    "    import pandas as pd\n",
    "\n",
    "    # If it's a DatasetDict, loop over splits\n",
    "    if hasattr(dataset, \"keys\"):  # DatasetDict\n",
    "        for split in dataset.keys():\n",
    "            print(f\"Checking split: {split} in {dataset_name}\\n\")\n",
    "            df = dataset[split].to_pandas()\n",
    "            \n",
    "            # Nulls\n",
    "            print(\"Nulls in each column:\")\n",
    "            print(df[[\"text\", \"labels\"]].isnull().sum())\n",
    "            print(\"\\n\")\n",
    "            \n",
    "            # Rows with nulls\n",
    "            print(\"Rows where text or labels are null/blank:\")\n",
    "            print(df[df[\"text\"].isnull() | df[\"labels\"].isnull()])\n",
    "            print(\"\\n\")\n",
    "            \n",
    "            # Blank strings\n",
    "            print(\"Check for blank and empty string values:\")\n",
    "            print(\"Blank texts:\", (df[\"text\"].str.strip() == \"\").sum())\n",
    "            print(\"Blank labels:\", (df[\"labels\"].astype(str).str.strip() == \"\").sum())\n",
    "            print(\"\\n\")\n",
    "    else:  # Single Dataset\n",
    "        df = dataset.to_pandas()\n",
    "        print(f\"Checking {dataset_name}\\n\")\n",
    "        print(\"Nulls in each column:\")\n",
    "        print(df[[\"text\", \"labels\"]].isnull().sum())\n",
    "        print(\"\\n\")\n",
    "        print(\"Rows where text or labels are null/blank:\")\n",
    "        print(df[df[\"text\"].isnull() | df[\"labels\"].isnull()])\n",
    "        print(\"\\n\")\n",
    "        print(\"Check for blank and empty string values:\")\n",
    "        print(\"Blank texts:\", (df[\"text\"].str.strip() == \"\").sum())\n",
    "        print(\"Blank labels:\", (df[\"labels\"].astype(str).str.strip() == \"\").sum())\n",
    "        print(\"\\n\")\n",
    "\n",
    "check_for_null_blank(dataset_1_broad_emotion, \"Dataset 1\")\n",
    "check_for_null_blank(dataset_2_specialize, \"Dataset 2\")\n"
   ]
  },
  {
   "cell_type": "markdown",
   "id": "ebfbf40b",
   "metadata": {},
   "source": [
    "### Drop rows that has null / blank / empty string values"
   ]
  },
  {
   "cell_type": "code",
   "execution_count": 8,
   "id": "f97c4f01",
   "metadata": {},
   "outputs": [
    {
     "name": "stdout",
     "output_type": "stream",
     "text": [
      "✅ Cleaned train: 40000 → 39996 rows\n",
      "✅ Cleaned train: 53043 → 52674 rows\n",
      "Checking split: train in Dataset\n",
      "\n",
      "Nulls in each column:\n",
      "text      0\n",
      "labels    0\n",
      "dtype: int64\n",
      "\n",
      "\n",
      "Rows where text or labels are null/blank:\n",
      "Empty DataFrame\n",
      "Columns: [labels, text, __index_level_0__]\n",
      "Index: []\n",
      "\n",
      "\n",
      "Check for blank and empty string values:\n",
      "Blank texts: 0\n",
      "Blank labels: 0\n",
      "\n",
      "\n",
      "Checking split: train in Dataset\n",
      "\n",
      "Nulls in each column:\n",
      "text      0\n",
      "labels    0\n",
      "dtype: int64\n",
      "\n",
      "\n",
      "Rows where text or labels are null/blank:\n",
      "Empty DataFrame\n",
      "Columns: [text, labels, __index_level_0__]\n",
      "Index: []\n",
      "\n",
      "\n",
      "Check for blank and empty string values:\n",
      "Blank texts: 0\n",
      "Blank labels: 0\n",
      "\n",
      "\n"
     ]
    }
   ],
   "source": [
    "# Drop rows where statement or status is null\n",
    "def drop_nulls_from_dataset(dataset, columns=[\"text\", \"labels\"]):\n",
    "    \"\"\"\n",
    "    Drops null and blank values from a Dataset or DatasetDict.\n",
    "    Works for both cases.\n",
    "    \"\"\"\n",
    "    if isinstance(dataset, DatasetDict):  # Case 1: DatasetDict with train/test\n",
    "        cleaned_splits = {}\n",
    "        for split_name, ds_split in dataset.items():\n",
    "            df = ds_split.to_pandas()\n",
    "            df = df.dropna(subset=columns)\n",
    "            if \"text\" in columns:\n",
    "                df = df[df[\"text\"].str.strip() != \"\"]\n",
    "            cleaned_splits[split_name] = Dataset.from_pandas(df)\n",
    "            print(f\"✅ Cleaned {split_name}: {len(ds_split)} → {len(df)} rows\")\n",
    "        return DatasetDict(cleaned_splits)\n",
    "\n",
    "    elif isinstance(dataset, Dataset):  # Case 2: Single Dataset\n",
    "        df = dataset.to_pandas()\n",
    "        df = df.dropna(subset=columns)\n",
    "        if \"text\" in columns:\n",
    "            df = df[df[\"text\"].str.strip() != \"\"]\n",
    "        cleaned_dataset = Dataset.from_pandas(df)\n",
    "        print(f\"✅ Cleaned dataset: {len(dataset)} → {len(df)} rows\")\n",
    "        return cleaned_dataset\n",
    "\n",
    "    else:\n",
    "        raise TypeError(\"Expected Dataset or DatasetDict\")\n",
    "\n",
    "dataset_1_broad_emotion = drop_nulls_from_dataset(dataset_1_broad_emotion)\n",
    "dataset_2_specialize = drop_nulls_from_dataset(dataset_2_specialize)\n",
    "\n",
    "# Check counts again\n",
    "check_for_null_blank(dataset_1_broad_emotion);\n",
    "check_for_null_blank(dataset_2_specialize);"
   ]
  },
  {
   "cell_type": "markdown",
   "id": "fbc6e6a4",
   "metadata": {},
   "source": [
    "### Feature engineer Dataset 1"
   ]
  },
  {
   "cell_type": "code",
   "execution_count": 9,
   "id": "5090e6bd",
   "metadata": {},
   "outputs": [
    {
     "name": "stdout",
     "output_type": "stream",
     "text": [
      "Original distribution:\n",
      "labels\n",
      "neutral       8635\n",
      "worry         8459\n",
      "happiness     5209\n",
      "sadness       5165\n",
      "love          3842\n",
      "surprise      2187\n",
      "fun           1776\n",
      "relief        1526\n",
      "hate          1323\n",
      "empty          826\n",
      "enthusiasm     759\n",
      "boredom        179\n",
      "anger          110\n",
      "Name: count, dtype: int64\n",
      "\n",
      "After grouping:\n",
      "grouped_label\n",
      "Positive    13112\n",
      "Neutral      8635\n",
      "Anxiety      8459\n",
      "Sadness      6170\n",
      "Surprise     2187\n",
      "Anger        1433\n",
      "Name: count, dtype: int64\n"
     ]
    },
    {
     "data": {
      "application/vnd.jupyter.widget-view+json": {
       "model_id": "0a6d0b76823b4bafbfec5942876e4620",
       "version_major": 2,
       "version_minor": 0
      },
      "text/plain": [
       "Filter:   0%|          | 0/39996 [00:00<?, ? examples/s]"
      ]
     },
     "metadata": {},
     "output_type": "display_data"
    },
    {
     "name": "stdout",
     "output_type": "stream",
     "text": [
      "\n",
      "Final dataset size: 1\n",
      "DatasetDict({\n",
      "    train: Dataset({\n",
      "        features: ['text', 'labels'],\n",
      "        num_rows: 29174\n",
      "    })\n",
      "})\n"
     ]
    }
   ],
   "source": [
    "# Convert dataset 1 to a dataframe first\n",
    "df_1 = dataset_1_broad_emotion[\"train\"].to_pandas()\n",
    "\n",
    "print(\"Original distribution:\")\n",
    "print(df_1['labels'].value_counts())\n",
    "\n",
    "# Define mapping: fine -> grouped\n",
    "\n",
    "label_mapping = {\n",
    "    \"happiness\": \"Positive\",\n",
    "    \"fun\": \"Positive\",\n",
    "    \"enthusiasm\": \"Positive\",\n",
    "    \"relief\": \"Positive\",\n",
    "    \"love\": \"Positive\",\n",
    "    \n",
    "    \"worry\": \"Anxiety\",\n",
    "    \n",
    "    \"sadness\": \"Sadness\",\n",
    "    \"empty\": \"Sadness\",\n",
    "    \"boredom\": \"Sadness\",\n",
    "    \n",
    "    \"anger\": \"Anger\",\n",
    "    \"hate\": \"Anger\",\n",
    "    \n",
    "    \"surprise\": \"Surprise\",\n",
    "    \"neutral\": \"Neutral\"\n",
    "}\n",
    "\n",
    "# Apply mapping\n",
    "df_1[\"grouped_label\"] = df_1[\"labels\"].map(label_mapping)\n",
    "\n",
    "print(\"\\nAfter grouping:\")\n",
    "print(df_1[\"grouped_label\"].value_counts())\n",
    "\n",
    "# Keep only the two columns we want\n",
    "df_clean = df_1[[\"text\", \"grouped_label\"]].rename(columns={\"grouped_label\": \"labels\"})\n",
    "\n",
    "# Convert to HF Dataset\n",
    "dataset_clean = Dataset.from_pandas(df_clean, preserve_index=False)\n",
    "\n",
    "# Wrap in DatasetDict\n",
    "dataset_1_broad_emotion = DatasetDict({\n",
    "    \"train\": dataset_clean\n",
    "})\n",
    "\n",
    "# Remove unwanted column/feature\n",
    "# Based on the graphs above i don't want \"Neutral\", \"Surprise\"\n",
    "unwanted_labels_1 = [\"Neutral\", \"Surprise\"]\n",
    "dataset_1_broad_emotion[\"train\"] = dataset_1_broad_emotion[\"train\"].filter(\n",
    "    lambda example: example[\"labels\"] not in unwanted_labels_1\n",
    ")\n",
    "\n",
    "print(\"\\nFinal dataset size:\", len(dataset_1_broad_emotion))\n",
    "print(dataset_1_broad_emotion)\n",
    "\n"
   ]
  },
  {
   "cell_type": "markdown",
   "id": "7fb5e4ce",
   "metadata": {},
   "source": [
    "### Feature engineerd Dataset 2\n"
   ]
  },
  {
   "cell_type": "code",
   "execution_count": 10,
   "id": "fa323cbd",
   "metadata": {},
   "outputs": [
    {
     "data": {
      "application/vnd.jupyter.widget-view+json": {
       "model_id": "48fd5a23820e4a30b06ed3218243fb35",
       "version_major": 2,
       "version_minor": 0
      },
      "text/plain": [
       "Filter:   0%|          | 0/52674 [00:00<?, ? examples/s]"
      ]
     },
     "metadata": {},
     "output_type": "display_data"
    },
    {
     "name": "stdout",
     "output_type": "stream",
     "text": [
      "labels\n",
      "Positive    13112\n",
      "Anxiety      8459\n",
      "Sadness      6170\n",
      "Anger        1433\n",
      "Name: count, dtype: int64\n",
      "labels\n",
      "Normal        16339\n",
      "Depression    15404\n",
      "Suicidal      10649\n",
      "Anxiety        3841\n",
      "Stress         2587\n",
      "Name: count, dtype: int64\n"
     ]
    },
    {
     "data": {
      "image/png": "[encoded data removed]",
      "text/plain": [
       "<Figure size 500x300 with 1 Axes>"
      ]
     },
     "metadata": {},
     "output_type": "display_data"
    },
    {
     "data": {
      "image/png": "[encoded data removed]",
      "text/plain": [
       "<Figure size 500x300 with 1 Axes>"
      ]
     },
     "metadata": {},
     "output_type": "display_data"
    }
   ],
   "source": [
    "# Based on the graphs above i don't want \"Bipolar\", \"Personality disorder\"\n",
    "unwanted_labels_2 = [\"Bipolar\", \"Personality disorder\"]\n",
    "dataset_2_specialize[\"train\"] = dataset_2_specialize[\"train\"].filter(\n",
    "    lambda example: example[\"labels\"] not in unwanted_labels_2\n",
    ")\n",
    "\n",
    "label_visualization()"
   ]
  },
  {
   "cell_type": "markdown",
   "id": "e8dd53da",
   "metadata": {},
   "source": [
    "### Check the max length the text column contains"
   ]
  },
  {
   "cell_type": "code",
   "execution_count": 11,
   "id": "038558f4",
   "metadata": {},
   "outputs": [
    {
     "name": "stdout",
     "output_type": "stream",
     "text": [
      "Dataset 1\n",
      "Max: 151\n",
      "Min: 4\n",
      "Short text count: 3\n",
      "Long text count: 1\n",
      "\n",
      "Dataset 2\n",
      "Max: 31499\n",
      "Min: 2\n",
      "Short text count: 8\n",
      "Long text count: 1\n"
     ]
    }
   ],
   "source": [
    "def get_min_max_len(example):\n",
    "  lengths = example[\"train\"].to_pandas()['text'].str.len()\n",
    "\n",
    "  max_length = lengths.max()\n",
    "  min_length = lengths.min()\n",
    "  short_texts_count = (lengths <= min_length).sum()\n",
    "  long_texts_count = (lengths >= max_length).sum()\n",
    "\n",
    "  print(f\"Max: {max_length}\")\n",
    "  print(f\"Min: {min_length}\")\n",
    "  print(f'Short text count: {short_texts_count}')\n",
    "  print(f'Long text count: {long_texts_count}')\n",
    "\n",
    "print(\"Dataset 1\")\n",
    "get_min_max_len(dataset_1_broad_emotion)\n",
    "print('\\nDataset 2')\n",
    "get_min_max_len(dataset_2_specialize)\n"
   ]
  },
  {
   "cell_type": "markdown",
   "id": "351b9c5d",
   "metadata": {},
   "source": [
    "### Pre-process and encode label"
   ]
  },
  {
   "cell_type": "code",
   "execution_count": 12,
   "id": "127b18cc",
   "metadata": {},
   "outputs": [
    {
     "data": {
      "application/vnd.jupyter.widget-view+json": {
       "model_id": "cd189ac2e03349f8918d067736302f4d",
       "version_major": 2,
       "version_minor": 0
      },
      "text/plain": [
       "Flattening the indices:   0%|          | 0/29174 [00:00<?, ? examples/s]"
      ]
     },
     "metadata": {},
     "output_type": "display_data"
    },
    {
     "data": {
      "application/vnd.jupyter.widget-view+json": {
       "model_id": "e8d76ae6a9744328a325856f480307df",
       "version_major": 2,
       "version_minor": 0
      },
      "text/plain": [
       "Flattening the indices:   0%|          | 0/48820 [00:00<?, ? examples/s]"
      ]
     },
     "metadata": {},
     "output_type": "display_data"
    },
    {
     "data": {
      "application/vnd.jupyter.widget-view+json": {
       "model_id": "ae1377926460492089df6fa3adfd5dba",
       "version_major": 2,
       "version_minor": 0
      },
      "text/plain": [
       "Map:   0%|          | 0/29174 [00:00<?, ? examples/s]"
      ]
     },
     "metadata": {},
     "output_type": "display_data"
    },
    {
     "data": {
      "application/vnd.jupyter.widget-view+json": {
       "model_id": "d1c1992848fb4cb1a617ea64a29cd6c0",
       "version_major": 2,
       "version_minor": 0
      },
      "text/plain": [
       "Map:   0%|          | 0/48820 [00:00<?, ? examples/s]"
      ]
     },
     "metadata": {},
     "output_type": "display_data"
    },
    {
     "name": "stdout",
     "output_type": "stream",
     "text": [
      "labels\n",
      "1    13112\n",
      "2     8459\n",
      "0     6170\n",
      "3     1433\n",
      "Name: count, dtype: int64\n",
      "labels\n",
      "1    16339\n",
      "2    15404\n",
      "3    10649\n",
      "0     3841\n",
      "4     2587\n",
      "Name: count, dtype: int64\n"
     ]
    },
    {
     "data": {
      "image/png": "[encoded data removed]",
      "text/plain": [
       "<Figure size 500x300 with 1 Axes>"
      ]
     },
     "metadata": {},
     "output_type": "display_data"
    },
    {
     "data": {
      "image/png": "[encoded data removed]",
      "text/plain": [
       "<Figure size 500x300 with 1 Axes>"
      ]
     },
     "metadata": {},
     "output_type": "display_data"
    }
   ],
   "source": [
    "# Get unique labels\n",
    "labels_1 = dataset_1_broad_emotion[\"train\"].unique(\"labels\")\n",
    "label_1_to_id = {l: i for i, l in enumerate(labels_1)}\n",
    "id_1_to_label = {i: l for l, i in label_1_to_id.items()}\n",
    "\n",
    "labels_2 = dataset_2_specialize[\"train\"].unique(\"labels\")\n",
    "label_2_to_id = {l: i for i, l in enumerate(labels_2)}\n",
    "id_2_to_label = {i: l for l, i in label_2_to_id.items()}\n",
    "\n",
    "def make_label_encoder(label_to_id: dict, column_name: str = \"labels\"):\n",
    "    \"\"\"Returns a function that encodes labels for the given column using label_to_id mapping.\"\"\"\n",
    "    def encode_labels(example):\n",
    "        example[column_name] = label_to_id[example[column_name]]\n",
    "        return example\n",
    "    return encode_labels\n",
    "\n",
    "encoder_for_data1 = make_label_encoder(label_1_to_id, column_name=\"labels\")\n",
    "encoder_for_data2 = make_label_encoder(label_2_to_id, column_name=\"labels\")\n",
    "\n",
    "dataset_1_broad_emotion = dataset_1_broad_emotion.map(encoder_for_data1)\n",
    "dataset_2_specialize = dataset_2_specialize.map(encoder_for_data2)\n",
    "\n",
    "# Re check if changes were applied correctly\n",
    "label_visualization()"
   ]
  },
  {
   "cell_type": "markdown",
   "id": "be969cc4",
   "metadata": {},
   "source": [
    "### Split training data to validation to test"
   ]
  },
  {
   "cell_type": "code",
   "execution_count": 13,
   "id": "67740ffb",
   "metadata": {},
   "outputs": [
    {
     "name": "stdout",
     "output_type": "stream",
     "text": [
      "DatasetDict({\n",
      "    train: Dataset({\n",
      "        features: ['text', 'labels'],\n",
      "        num_rows: 18671\n",
      "    })\n",
      "    validation: Dataset({\n",
      "        features: ['text', 'labels'],\n",
      "        num_rows: 4668\n",
      "    })\n",
      "    test: Dataset({\n",
      "        features: ['text', 'labels'],\n",
      "        num_rows: 5835\n",
      "    })\n",
      "})\n",
      "DatasetDict({\n",
      "    train: Dataset({\n",
      "        features: ['text', 'labels', '__index_level_0__'],\n",
      "        num_rows: 31244\n",
      "    })\n",
      "    validation: Dataset({\n",
      "        features: ['text', 'labels', '__index_level_0__'],\n",
      "        num_rows: 7812\n",
      "    })\n",
      "    test: Dataset({\n",
      "        features: ['text', 'labels', '__index_level_0__'],\n",
      "        num_rows: 9764\n",
      "    })\n",
      "})\n"
     ]
    }
   ],
   "source": [
    "def split_dataset_to_train_valid_test(dataset: DatasetDict, test_size: float = 0.2, val_size: float = 0.2, seed: int = 42) -> DatasetDict:\n",
    "    \"\"\"\n",
    "    Splits a dataset into train, validation, and test sets.\n",
    "    - First, takes a portion (test_size) from 'train' to make the test set.\n",
    "    - Then, splits the remaining train into train/validation (val_size).\n",
    "    \"\"\"\n",
    "    if \"train\" not in dataset:\n",
    "        raise ValueError(\"DatasetDict must contain a 'train' split.\")\n",
    "\n",
    "    # Split into train + test\n",
    "    data = dataset[\"train\"].train_test_split(test_size=test_size, seed=seed)\n",
    "    original_train = data[\"train\"]\n",
    "    original_test = data[\"test\"]\n",
    "\n",
    "    # Split original train further into train + validation\n",
    "    train_valid_split = original_train.train_test_split(test_size=val_size, seed=seed)\n",
    "\n",
    "    return DatasetDict({\n",
    "        \"train\": train_valid_split[\"train\"],\n",
    "        \"validation\": train_valid_split[\"test\"],\n",
    "        \"test\": original_test\n",
    "    })\n",
    "\n",
    "dataset_1_broad_emotion = split_dataset_to_train_valid_test(dataset_1_broad_emotion)\n",
    "dataset_2_specialize = split_dataset_to_train_valid_test(dataset_2_specialize)\n",
    "\n",
    "print(dataset_1_broad_emotion)\n",
    "print(dataset_2_specialize)"
   ]
  },
  {
   "cell_type": "markdown",
   "id": "954da9f5",
   "metadata": {},
   "source": [
    "#### Over sample train data"
   ]
  },
  {
   "cell_type": "code",
   "execution_count": null,
   "id": "f3d74a38",
   "metadata": {},
   "outputs": [],
   "source": [
    "# train_labels = dataset_1_broad_emotion[\"train\"][\"labels\"]\n",
    "# print(Counter(train_labels))\n",
    "\n",
    "# # Convert train split to Pandas\n",
    "# df_1_train = pd.DataFrame(dataset_1_broad_emotion[\"train\"])\n",
    "\n",
    "# # Count classes\n",
    "# class_counts = df_1_train[\"labels\"].value_counts()\n",
    "# max_count = class_counts.max()\n",
    "\n",
    "# # Oversample each class\n",
    "# df_list = []\n",
    "# for label, count in class_counts.items():\n",
    "#     df_label = df_1_train[df_1_train[\"labels\"] == label]\n",
    "#     df_upsampled = df_label.sample(max_count, replace=True, random_state=42)\n",
    "#     df_list.append(df_upsampled)\n",
    "\n",
    "# # Concatenate back\n",
    "# df_1_train_balanced = pd.concat(df_list).sample(frac=1, random_state=42).reset_index(drop=True)\n",
    "\n",
    "# # Convert back to HuggingFace Dataset\n",
    "# balanced_train_dataset_1 = Dataset.from_pandas(df_1_train_balanced)\n",
    "\n",
    "# dataset_1_broad_emotion = DatasetDict({\n",
    "#     \"train\": balanced_train_dataset_1,\n",
    "#     \"validation\": dataset_1_broad_emotion[\"validation\"],\n",
    "#     \"test\": dataset_1_broad_emotion[\"test\"]\n",
    "# })\n",
    "\n",
    "# print(dataset_1_broad_emotion)"
   ]
  },
  {
   "cell_type": "markdown",
   "id": "2a192311",
   "metadata": {},
   "source": [
    "## Model Training / Fine Tuning\n"
   ]
  },
  {
   "cell_type": "markdown",
   "id": "f2d47ba0",
   "metadata": {},
   "source": [
    "### Define model training functions"
   ]
  },
  {
   "cell_type": "markdown",
   "id": "3e9f6f9e",
   "metadata": {},
   "source": [
    "#### Load Tokenizer + Model"
   ]
  },
  {
   "cell_type": "code",
   "execution_count": 14,
   "id": "62aa64a2",
   "metadata": {},
   "outputs": [],
   "source": [
    "def load_model_and_tokenizer(model_name: str, labels: list[str], id2label: dict[int, str], label2id: dict[str, int]):\n",
    "    \"\"\"\n",
    "    Loads a tokenizer and model for sequence classification.\n",
    "\n",
    "    Args:\n",
    "        model_name (str): Hugging Face model name or path.\n",
    "        labels (list[str]): List of labels for classification.\n",
    "        id2label (dict[int, str]): Mapping from ID to label name.\n",
    "        label2id (dict[str, int]): Mapping from label name to ID.\n",
    "\n",
    "    Returns:\n",
    "        tokenizer, model\n",
    "    \"\"\"\n",
    "    tokenizer = AutoTokenizer.from_pretrained(model_name)\n",
    "    model = AutoModelForSequenceClassification.from_pretrained(\n",
    "        model_name,\n",
    "        num_labels=len(labels),\n",
    "        id2label=id2label,\n",
    "        label2id=label2id\n",
    "    )\n",
    "    return tokenizer, model\n",
    "\n",
    "def tokenize_dataset(dataset: Dataset, tokenizer: PreTrainedTokenizerBase, max_length: int = 256, num_proc: int = 4):\n",
    "    return dataset.map(\n",
    "        lambda examples: tokenizer(\n",
    "            examples[\"text\"],\n",
    "            truncation=True,\n",
    "            padding=\"max_length\",\n",
    "            max_length=max_length,\n",
    "        ),\n",
    "        batched=True,\n",
    "        num_proc=num_proc\n",
    "    )\n",
    "\n"
   ]
  },
  {
   "cell_type": "markdown",
   "id": "4302487d",
   "metadata": {},
   "source": [
    "#### Check max length to use"
   ]
  },
  {
   "cell_type": "code",
   "execution_count": 15,
   "id": "630e58a7",
   "metadata": {},
   "outputs": [],
   "source": [
    "def plot_token_length_distribution(dataset, text_column='text', dataset_name=\"Dataset\"):\n",
    "    \"\"\"\n",
    "    Plots the distribution of sentence lengths or token lengths.\n",
    "    \n",
    "    Args:\n",
    "        dataset: Hugging Face Dataset (tokenized or raw).\n",
    "        text_column: Name of the column to measure length on. \n",
    "                     Use 'text' for raw strings or 'input_ids' for tokenized lists.\n",
    "        dataset_name: Optional name for labeling the plot.\n",
    "    \"\"\"\n",
    "    # Check first row type to decide how to measure length\n",
    "    first_elem = dataset[0][text_column]\n",
    "    \n",
    "    if isinstance(first_elem, list):  # tokenized\n",
    "        lengths = [len(x) for x in dataset[text_column]]\n",
    "        unit = \"tokens\"\n",
    "    elif isinstance(first_elem, str):  # raw text\n",
    "        lengths = [len(x.split()) for x in dataset[text_column]]  # measure words\n",
    "        unit = \"words\"\n",
    "    else:\n",
    "        raise ValueError(f\"Column {text_column} has unsupported type: {type(first_elem)}\")\n",
    "    \n",
    "    print(f\"{dataset_name} {unit} stats:\")\n",
    "    print('Max length:', max(lengths))\n",
    "    print('Min length:', min(lengths))\n",
    "    \n",
    "    plt.figure(figsize=(5, 2))\n",
    "    plt.hist(lengths, bins=50, rwidth=0.9)\n",
    "    plt.xlabel(f'Sequence Length ({unit})', fontsize=6)\n",
    "    plt.ylabel('# of Samples', fontsize=6)\n",
    "    plt.title(f'{unit.capitalize()} Length Distribution for {dataset_name}', fontsize=10)\n",
    "    plt.xticks(fontsize=7)\n",
    "    plt.yticks(fontsize=7)\n",
    "    plt.show()"
   ]
  },
  {
   "cell_type": "markdown",
   "id": "41614015",
   "metadata": {},
   "source": [
    "#### Compute Class Weight\n"
   ]
  },
  {
   "cell_type": "code",
   "execution_count": 16,
   "id": "ba064064",
   "metadata": {},
   "outputs": [],
   "source": [
    "def compute_class_weights(dataset, label_column=\"labels\", device=\"cpu\"):\n",
    "    \"\"\"\n",
    "    Compute normalized class weights from a dataset.\n",
    "\n",
    "    Args:\n",
    "        dataset: Hugging Face Dataset split (e.g. dataset[\"train\"])\n",
    "        label_column: name of the label column\n",
    "        device: \"cpu\" or \"cuda\"\n",
    "\n",
    "    Returns:\n",
    "        torch.tensor of class weights\n",
    "    \"\"\"\n",
    "    labels = np.array(dataset[label_column])\n",
    "    class_counts = np.bincount(labels)\n",
    "\n",
    "    class_weights = 1.0 / class_counts\n",
    "    class_weights = class_weights / class_weights.sum() * len(class_counts)\n",
    "\n",
    "    return torch.tensor(class_weights, dtype=torch.float).to(device)"
   ]
  },
  {
   "cell_type": "markdown",
   "id": "21fb481f",
   "metadata": {},
   "source": [
    "### Define reusable classes"
   ]
  },
  {
   "cell_type": "markdown",
   "id": "60a4881a",
   "metadata": {},
   "source": [
    "#### Focal Loss"
   ]
  },
  {
   "cell_type": "code",
   "execution_count": 17,
   "id": "60113973",
   "metadata": {},
   "outputs": [],
   "source": [
    "class FocalLoss(nn.Module):\n",
    "    def __init__(self, alpha=None, gamma=2.0, reduction='mean'):\n",
    "        super().__init__()\n",
    "        self.alpha = alpha\n",
    "        self.gamma = gamma\n",
    "        self.reduction = reduction\n",
    "\n",
    "    def forward(self, logits, targets):\n",
    "        ce_loss = F.cross_entropy(logits, targets, weight=self.alpha, reduction='none')\n",
    "        pt = torch.exp(-ce_loss)\n",
    "        loss = ((1 - pt) ** self.gamma) * ce_loss\n",
    "\n",
    "        if self.reduction == 'mean':\n",
    "            return loss.mean()\n",
    "        elif self.reduction == 'sum':\n",
    "            return loss.sum()\n",
    "        return loss"
   ]
  },
  {
   "cell_type": "markdown",
   "id": "c8c29150",
   "metadata": {},
   "source": [
    "#### Weighted Trainer"
   ]
  },
  {
   "cell_type": "code",
   "execution_count": 18,
   "id": "eaa6f008",
   "metadata": {},
   "outputs": [],
   "source": [
    "class WeightedTrainer(Trainer):\n",
    "    def __init__(self, class_weights=None, *args, **kwargs):\n",
    "        super().__init__(*args, **kwargs)\n",
    "        self.class_weights = class_weights\n",
    "\n",
    "    def compute_loss(self, model, inputs, return_outputs=False, **kwargs):\n",
    "        labels = inputs.get(\"labels\")\n",
    "        outputs = model(**inputs)\n",
    "        logits = outputs.get(\"logits\")\n",
    "        labels = labels.to(logits.device)\n",
    "\n",
    "        # Use CrossEntropyLoss with class weights\n",
    "        loss_fct = nn.CrossEntropyLoss(weight=self.class_weights.to(logits.device) if self.class_weights is not None else None)\n",
    "        loss = loss_fct(logits, labels)\n",
    "\n",
    "        return (loss, outputs) if return_outputs else loss"
   ]
  },
  {
   "cell_type": "markdown",
   "id": "78f9ba71",
   "metadata": {},
   "source": [
    "### Train on Dataset (1)"
   ]
  },
  {
   "cell_type": "markdown",
   "id": "05a0d423",
   "metadata": {},
   "source": [
    "#### Load tokenizer and tokenize data"
   ]
  },
  {
   "cell_type": "code",
   "execution_count": 19,
   "id": "8523469c",
   "metadata": {},
   "outputs": [
    {
     "name": "stderr",
     "output_type": "stream",
     "text": [
      "Some weights of XLMRobertaForSequenceClassification were not initialized from the model checkpoint at xlm-roberta-base and are newly initialized: ['classifier.dense.bias', 'classifier.dense.weight', 'classifier.out_proj.bias', 'classifier.out_proj.weight']\n",
      "You should probably TRAIN this model on a down-stream task to be able to use it for predictions and inference.\n"
     ]
    },
    {
     "data": {
      "application/vnd.jupyter.widget-view+json": {
       "model_id": "4f1dd0835a034d5ab833a9023830de0e",
       "version_major": 2,
       "version_minor": 0
      },
      "text/plain": [
       "Map:   0%|          | 0/18671 [00:00<?, ? examples/s]"
      ]
     },
     "metadata": {},
     "output_type": "display_data"
    },
    {
     "data": {
      "application/vnd.jupyter.widget-view+json": {
       "model_id": "b51a369af6f545d0a30f85ae1e5c9dcb",
       "version_major": 2,
       "version_minor": 0
      },
      "text/plain": [
       "Map:   0%|          | 0/4668 [00:00<?, ? examples/s]"
      ]
     },
     "metadata": {},
     "output_type": "display_data"
    },
    {
     "data": {
      "application/vnd.jupyter.widget-view+json": {
       "model_id": "a92e586b56e94e4f9fc97fb4d64c326c",
       "version_major": 2,
       "version_minor": 0
      },
      "text/plain": [
       "Map:   0%|          | 0/5835 [00:00<?, ? examples/s]"
      ]
     },
     "metadata": {},
     "output_type": "display_data"
    }
   ],
   "source": [
    "# Load tokenizer and model\n",
    "tokenizer_1, model_1 = load_model_and_tokenizer(\n",
    "    model_name= MODEL_NAME,\n",
    "    labels= labels_1,\n",
    "    id2label=id_1_to_label,\n",
    "    label2id=id_1_to_label\n",
    ")\n",
    "\n",
    "# Tokenize dataset\n",
    "dataset_1_broad_emotion = tokenize_dataset(\n",
    "    dataset=dataset_1_broad_emotion,\n",
    "    tokenizer=tokenizer_1,\n",
    "    max_length=256,\n",
    "    num_proc=1\n",
    ")"
   ]
  },
  {
   "cell_type": "markdown",
   "id": "117a2b09",
   "metadata": {},
   "source": [
    "#### Train Model from our first dataset"
   ]
  },
  {
   "cell_type": "code",
   "execution_count": 20,
   "id": "ef4f21f0",
   "metadata": {},
   "outputs": [
    {
     "name": "stderr",
     "output_type": "stream",
     "text": [
      "C:\\Users\\PC\\AppData\\Local\\Temp\\ipykernel_2720\\547669839.py:54: FutureWarning: `tokenizer` is deprecated and will be removed in version 5.0.0 for `Trainer.__init__`. Use `processing_class` instead.\n",
      "  trainer = Trainer(\n"
     ]
    },
    {
     "data": {
      "text/html": [
       "\n",
       "    <div>\n",
       "      \n",
       "      <progress value='5835' max='5835' style='width:300px; height:20px; vertical-align: middle;'></progress>\n",
       "      [5835/5835 34:01, Epoch 5/5]\n",
       "    </div>\n",
       "    <table border=\"1\" class=\"dataframe\">\n",
       "  <thead>\n",
       " <tr style=\"text-align: left;\">\n",
       "      <th>Step</th>\n",
       "      <th>Training Loss</th>\n",
       "      <th>Validation Loss</th>\n",
       "      <th>Accuracy</th>\n",
       "      <th>F1</th>\n",
       "    </tr>\n",
       "  </thead>\n",
       "  <tbody>\n",
       "    <tr>\n",
       "      <td>500</td>\n",
       "      <td>1.173900</td>\n",
       "      <td>0.976532</td>\n",
       "      <td>0.581620</td>\n",
       "      <td>0.327341</td>\n",
       "    </tr>\n",
       "    <tr>\n",
       "      <td>1000</td>\n",
       "      <td>0.999300</td>\n",
       "      <td>0.948569</td>\n",
       "      <td>0.601971</td>\n",
       "      <td>0.391213</td>\n",
       "    </tr>\n",
       "    <tr>\n",
       "      <td>1500</td>\n",
       "      <td>0.947500</td>\n",
       "      <td>0.943873</td>\n",
       "      <td>0.595973</td>\n",
       "      <td>0.432314</td>\n",
       "    </tr>\n",
       "    <tr>\n",
       "      <td>2000</td>\n",
       "      <td>0.926900</td>\n",
       "      <td>0.947065</td>\n",
       "      <td>0.599614</td>\n",
       "      <td>0.485828</td>\n",
       "    </tr>\n",
       "    <tr>\n",
       "      <td>2500</td>\n",
       "      <td>0.871800</td>\n",
       "      <td>0.924963</td>\n",
       "      <td>0.621894</td>\n",
       "      <td>0.509383</td>\n",
       "    </tr>\n",
       "    <tr>\n",
       "      <td>3000</td>\n",
       "      <td>0.825900</td>\n",
       "      <td>0.920582</td>\n",
       "      <td>0.619537</td>\n",
       "      <td>0.506657</td>\n",
       "    </tr>\n",
       "    <tr>\n",
       "      <td>3500</td>\n",
       "      <td>0.835100</td>\n",
       "      <td>0.922539</td>\n",
       "      <td>0.611825</td>\n",
       "      <td>0.513490</td>\n",
       "    </tr>\n",
       "    <tr>\n",
       "      <td>4000</td>\n",
       "      <td>0.750500</td>\n",
       "      <td>0.972919</td>\n",
       "      <td>0.606898</td>\n",
       "      <td>0.508385</td>\n",
       "    </tr>\n",
       "    <tr>\n",
       "      <td>4500</td>\n",
       "      <td>0.736900</td>\n",
       "      <td>0.979380</td>\n",
       "      <td>0.617181</td>\n",
       "      <td>0.516779</td>\n",
       "    </tr>\n",
       "    <tr>\n",
       "      <td>5000</td>\n",
       "      <td>0.693000</td>\n",
       "      <td>1.022871</td>\n",
       "      <td>0.617395</td>\n",
       "      <td>0.519307</td>\n",
       "    </tr>\n",
       "    <tr>\n",
       "      <td>5500</td>\n",
       "      <td>0.674700</td>\n",
       "      <td>1.026374</td>\n",
       "      <td>0.618252</td>\n",
       "      <td>0.516804</td>\n",
       "    </tr>\n",
       "  </tbody>\n",
       "</table><p>"
      ],
      "text/plain": [
       "<IPython.core.display.HTML object>"
      ]
     },
     "metadata": {},
     "output_type": "display_data"
    },
    {
     "data": {
      "text/plain": [
       "TrainOutput(global_step=5835, training_loss=0.8467015937341005, metrics={'train_runtime': 2059.5484, 'train_samples_per_second': 45.328, 'train_steps_per_second': 2.833, 'total_flos': 1.228158682543104e+16, 'train_loss': 0.8467015937341005, 'epoch': 5.0})"
      ]
     },
     "execution_count": 20,
     "metadata": {},
     "output_type": "execute_result"
    }
   ],
   "source": [
    "# Set format for PyTorch\n",
    "dataset_1_broad_emotion.set_format(\n",
    "    type=\"torch\",\n",
    "    columns=[\"input_ids\", \"attention_mask\", \"labels\"],\n",
    ")\n",
    "\n",
    "# Compute class weight\n",
    "class_weights_1 = compute_class_weights(dataset_1_broad_emotion[\"train\"], label_column=\"labels\", device=\"cuda\")\n",
    "\n",
    "accuracy = evaluate.load(\"accuracy\")\n",
    "f1 = evaluate.load(\"f1\")\n",
    "\n",
    "def compute_metrics(p):\n",
    "    preds = p.predictions.argmax(-1)\n",
    "    acc = accuracy.compute(predictions=preds, references=p.label_ids)\n",
    "    f1_score = f1.compute(predictions=preds, references=p.label_ids, average=\"macro\")\n",
    "    \n",
    "    return {**acc, **f1_score}\n",
    "\n",
    "training_args = TrainingArguments(\n",
    "    output_dir=MODEL_PATH_FINETUNE_1,\n",
    "\n",
    "    # Evaluation & saving\n",
    "    eval_strategy=\"steps\",             # evaluate more frequently\n",
    "    eval_steps=500,                    # evaluate every 500 steps\n",
    "    save_strategy=\"steps\",             # save every eval\n",
    "    save_steps=500,\n",
    "    save_total_limit=3,                # keep last 3 checkpoints\n",
    "\n",
    "    # Optimizer\n",
    "    learning_rate=2e-5,\n",
    "    warmup_ratio=0.1,                  # 10% warmup               \n",
    "    weight_decay=0.05,                 # helps reduce overfitting\n",
    "\n",
    "    # Batch size\n",
    "    per_device_train_batch_size=8,\n",
    "    per_device_eval_batch_size=8,\n",
    "    gradient_accumulation_steps=2,     # effective batch size 16\n",
    "\n",
    "    # Mixed precision\n",
    "    fp16=True,                         # faster training\n",
    "\n",
    "    # Training length\n",
    "    num_train_epochs=5,                # shorter to prevent overfitting\n",
    "    load_best_model_at_end=True,       # load checkpoint with best validation loss\n",
    "    metric_for_best_model=\"f1\",  # choose metric to track best model\n",
    "\n",
    "    # Misc\n",
    "    dataloader_num_workers=4,\n",
    "    # logging_steps=100,                 # logs every 100 steps\n",
    "    # logging_dir=f\"{MODEL_PATH_FINETUNE_1}/logs\"\n",
    ")\n",
    "\n",
    "trainer = Trainer(\n",
    "    model=model_1,\n",
    "    args=training_args,\n",
    "    train_dataset=dataset_1_broad_emotion[\"train\"],\n",
    "    eval_dataset=dataset_1_broad_emotion[\"validation\"],  # <-- use validation here\n",
    "    tokenizer=tokenizer_1,\n",
    "    compute_metrics=compute_metrics,\n",
    ")\n",
    "\n",
    "last_checkpoint = get_last_checkpoint(MODEL_PATH_FINETUNE_1)\n",
    "\n",
    "trainer.train(resume_from_checkpoint=last_checkpoint)"
   ]
  },
  {
   "cell_type": "markdown",
   "id": "30b6d528",
   "metadata": {},
   "source": [
    "#### Save Checkpoint"
   ]
  },
  {
   "cell_type": "code",
   "execution_count": 21,
   "id": "38edd352",
   "metadata": {},
   "outputs": [
    {
     "data": {
      "text/plain": [
       "('../../models/nlp/sentiment_model_1\\\\tokenizer_config.json',\n",
       " '../../models/nlp/sentiment_model_1\\\\special_tokens_map.json',\n",
       " '../../models/nlp/sentiment_model_1\\\\tokenizer.json')"
      ]
     },
     "execution_count": 21,
     "metadata": {},
     "output_type": "execute_result"
    }
   ],
   "source": [
    "model_1.save_pretrained(MODEL_PATH_MODEL_1)\n",
    "tokenizer_1.save_pretrained(MODEL_PATH_MODEL_1)"
   ]
  },
  {
   "cell_type": "markdown",
   "id": "13087df0",
   "metadata": {},
   "source": [
    "#### Load the trained model and then test in the test dataset"
   ]
  },
  {
   "cell_type": "code",
   "execution_count": 22,
   "id": "972f04ae",
   "metadata": {},
   "outputs": [],
   "source": [
    "model_test_1 = AutoModelForSequenceClassification.from_pretrained(MODEL_PATH_MODEL_1)\n",
    "tokenizer_test_1 = AutoTokenizer.from_pretrained(MODEL_PATH_MODEL_1)"
   ]
  },
  {
   "cell_type": "markdown",
   "id": "fd080635",
   "metadata": {},
   "source": [
    "#### Make Predictions "
   ]
  },
  {
   "cell_type": "code",
   "execution_count": 23,
   "id": "35ae8b8e",
   "metadata": {},
   "outputs": [
    {
     "name": "stdout",
     "output_type": "stream",
     "text": [
      "CUDA available: True\n",
      "Current device: 0\n",
      "Device name: NVIDIA GeForce RTX 3060\n"
     ]
    },
    {
     "name": "stderr",
     "output_type": "stream",
     "text": [
      "Evaluating: 100%|██████████| 183/183 [00:42<00:00,  4.29batch/s]\n"
     ]
    }
   ],
   "source": [
    "print(\"CUDA available:\", torch.cuda.is_available())\n",
    "print(\"Current device:\", torch.cuda.current_device())\n",
    "print(\"Device name:\", torch.cuda.get_device_name(0) if torch.cuda.is_available() else \"CPU\")\n",
    "\n",
    "model_test_1.to(\"cuda\") # Ensure that model is loaded in the GPU\n",
    "model_test_1.eval()\n",
    "\n",
    "# Torch DataLoader for test set\n",
    "test_loader = DataLoader(dataset_1_broad_emotion[\"test\"], batch_size=32)  # increase batch size if possible\n",
    "\n",
    "all_preds_1 = []\n",
    "all_labels_1 = []\n",
    "\n",
    "with torch.no_grad():\n",
    "    for batch in tqdm(test_loader, desc=\"Evaluating\", unit=\"batch\"):\n",
    "        # Move to GPU if available\n",
    "        batch = {k: v.to(model_test_1.device) for k, v in batch.items() if k in [\"input_ids\", \"attention_mask\", \"labels\"]}\n",
    "\n",
    "        outputs = model_test_1(input_ids=batch[\"input_ids\"], attention_mask=batch[\"attention_mask\"])\n",
    "        preds = torch.argmax(outputs.logits, dim=-1)\n",
    "\n",
    "        all_preds_1.extend(preds.cpu().numpy())\n",
    "        all_labels_1.extend(batch[\"labels\"].cpu().numpy())\n"
   ]
  },
  {
   "cell_type": "markdown",
   "id": "bb077403",
   "metadata": {},
   "source": [
    "#### Compute Accuracy / F1"
   ]
  },
  {
   "cell_type": "code",
   "execution_count": 24,
   "id": "8b955384",
   "metadata": {},
   "outputs": [
    {
     "name": "stdout",
     "output_type": "stream",
     "text": [
      "Train set accuracy: 0.6144\n",
      "Train set F1: 0.5121\n"
     ]
    }
   ],
   "source": [
    "acc_1 = accuracy_score(all_labels_1, all_preds_1)\n",
    "f1_1 = f1_score(all_labels_1, all_preds_1, average=\"macro\")\n",
    "\n",
    "print(f\"Train set accuracy: {acc_1:.4f}\")\n",
    "print(f\"Train set F1: {f1_1:.4f}\")"
   ]
  },
  {
   "cell_type": "code",
   "execution_count": 27,
   "id": "2c1c29dd",
   "metadata": {},
   "outputs": [
    {
     "name": "stdout",
     "output_type": "stream",
     "text": [
      "Total examples: 18671\n",
      "Class counts: Counter({np.int64(1): 8385, np.int64(2): 5401, np.int64(0): 3950, np.int64(3): 935})\n",
      "\n",
      "Majority baseline: predict class 1 (count=8385)\n",
      "  Accuracy = 0.4491\n",
      "  Macro-F1 = 0.1550\n",
      "\n",
      "Random(prior) analytic expected accuracy = sum(p_i^2) = 0.3326\n",
      "Random(prior) simulated (n=2000):\n",
      "  Accuracy mean = 0.3326 (std 0.0032)\n",
      "  Macro-F1 mean = 0.2499 (std 0.0031)\n",
      "\n",
      "Classification report for majority baseline (per-class):\n",
      "              precision    recall  f1-score   support\n",
      "\n",
      "           0       0.00      0.00      0.00      3950\n",
      "           1       0.45      1.00      0.62      8385\n",
      "           2       0.00      0.00      0.00      5401\n",
      "           3       0.00      0.00      0.00       935\n",
      "\n",
      "    accuracy                           0.45     18671\n",
      "   macro avg       0.11      0.25      0.15     18671\n",
      "weighted avg       0.20      0.45      0.28     18671\n",
      "\n"
     ]
    }
   ],
   "source": [
    "def compute_baselines(hf_dataset_split, label_names=None, n_sim=1000, seed=42):\n",
    "    \"\"\"\n",
    "    hf_dataset_split: a HuggingFace Dataset split (e.g. dataset['train'])\n",
    "    label_names: optional list of label names in index order (for pretty printing)\n",
    "    n_sim: number of simulations for random(prior) baseline estimation\n",
    "    \"\"\"\n",
    "    rng = np.random.default_rng(seed)\n",
    "    labels = np.array(hf_dataset_split[\"labels\"])\n",
    "    n = len(labels)\n",
    "    counts = Counter(labels)\n",
    "    num_labels = len(counts)\n",
    "    # class prior distribution from data\n",
    "    class_priors = np.array([counts.get(i, 0) for i in range(max(counts.keys())+1)], dtype=float)\n",
    "    class_priors = class_priors / class_priors.sum()\n",
    "\n",
    "    print(\"Total examples:\", n)\n",
    "    print(\"Class counts:\", counts)\n",
    "    if label_names:\n",
    "        for i, name in enumerate(label_names):\n",
    "            print(f\"  {i}: {name} -> {counts.get(i,0)}\")\n",
    "\n",
    "    # 1) majority class baseline\n",
    "    majority_label = max(counts.items(), key=lambda x: x[1])[0]\n",
    "    majority_preds = np.full_like(labels, fill_value=majority_label)\n",
    "    maj_acc = accuracy_score(labels, majority_preds)\n",
    "    maj_macro_f1 = f1_score(labels, majority_preds, average=\"macro\")\n",
    "    print(f\"\\nMajority baseline: predict class {majority_label} (count={counts[majority_label]})\")\n",
    "    print(f\"  Accuracy = {maj_acc:.4f}\")\n",
    "    print(f\"  Macro-F1 = {maj_macro_f1:.4f}\")\n",
    "\n",
    "    # 2) expected random(prior) baseline — analytic expected accuracy = sum(p_i * p_i)\n",
    "    expected_acc_analytic = np.sum(class_priors * class_priors)\n",
    "    print(f\"\\nRandom(prior) analytic expected accuracy = sum(p_i^2) = {expected_acc_analytic:.4f}\")\n",
    "\n",
    "    # 3) simulate random(prior) baseline to get expected macro-f1 too\n",
    "    sim_accs = []\n",
    "    sim_macro_f1s = []\n",
    "    for _ in range(n_sim):\n",
    "        sim_preds = rng.choice(len(class_priors), size=n, p=class_priors)\n",
    "        sim_accs.append(accuracy_score(labels, sim_preds))\n",
    "        sim_macro_f1s.append(f1_score(labels, sim_preds, average=\"macro\"))\n",
    "    print(f\"Random(prior) simulated (n={n_sim}):\")\n",
    "    print(f\"  Accuracy mean = {np.mean(sim_accs):.4f} (std {np.std(sim_accs):.4f})\")\n",
    "    print(f\"  Macro-F1 mean = {np.mean(sim_macro_f1s):.4f} (std {np.std(sim_macro_f1s):.4f})\")\n",
    "\n",
    "    # 4) show trivial classification report for majority baseline\n",
    "    print(\"\\nClassification report for majority baseline (per-class):\")\n",
    "    print(classification_report(labels, majority_preds, zero_division=0, target_names=label_names))\n",
    "\n",
    "    return {\n",
    "        \"counts\": counts,\n",
    "        \"class_priors\": class_priors,\n",
    "        \"majority_label\": majority_label,\n",
    "        \"majority_acc\": maj_acc,\n",
    "        \"majority_macro_f1\": maj_macro_f1,\n",
    "        \"random_prior_acc_mean\": np.mean(sim_accs),\n",
    "        \"random_prior_macro_f1_mean\": np.mean(sim_macro_f1s),\n",
    "    }\n",
    "\n",
    "# Example usage (adjust variable names if needed):\n",
    "# If you have label names, pass them as label_names list.\n",
    "# For your grouped Dataset 1 example:\n",
    "# label_names = [\"Positive\",\"Anxiety\",\"Sadness\",\"Anger\"]  # or whatever mapping you used\n",
    "baselines = compute_baselines(dataset_1_broad_emotion[\"train\"], label_names=None, n_sim=2000)"
   ]
  },
  {
   "cell_type": "markdown",
   "id": "73b7863c",
   "metadata": {},
   "source": [
    "### Train on Dataset (2)"
   ]
  },
  {
   "cell_type": "markdown",
   "id": "080975ab",
   "metadata": {},
   "source": [
    "#### Load tokenizer and tokenize data"
   ]
  },
  {
   "cell_type": "code",
   "execution_count": 30,
   "id": "8de2242e",
   "metadata": {},
   "outputs": [
    {
     "name": "stderr",
     "output_type": "stream",
     "text": [
      "Some weights of XLMRobertaForSequenceClassification were not initialized from the model checkpoint at ../../models/nlp/sentiment_model_1 and are newly initialized because the shapes did not match:\n",
      "- classifier.out_proj.bias: found shape torch.Size([4]) in the checkpoint and torch.Size([5]) in the model instantiated\n",
      "- classifier.out_proj.weight: found shape torch.Size([4, 768]) in the checkpoint and torch.Size([5, 768]) in the model instantiated\n",
      "You should probably TRAIN this model on a down-stream task to be able to use it for predictions and inference.\n"
     ]
    },
    {
     "data": {
      "application/vnd.jupyter.widget-view+json": {
       "model_id": "383274fa0093472bb6d5fa4e5fec7cd6",
       "version_major": 2,
       "version_minor": 0
      },
      "text/plain": [
       "Map (num_proc=4):   0%|          | 0/31244 [00:00<?, ? examples/s]"
      ]
     },
     "metadata": {},
     "output_type": "display_data"
    },
    {
     "data": {
      "application/vnd.jupyter.widget-view+json": {
       "model_id": "a0206b16164143fc8f97f27afd6b7e03",
       "version_major": 2,
       "version_minor": 0
      },
      "text/plain": [
       "Map (num_proc=4):   0%|          | 0/7812 [00:00<?, ? examples/s]"
      ]
     },
     "metadata": {},
     "output_type": "display_data"
    },
    {
     "data": {
      "application/vnd.jupyter.widget-view+json": {
       "model_id": "3c6aa644e85446fd894bc26cb75abb36",
       "version_major": 2,
       "version_minor": 0
      },
      "text/plain": [
       "Map (num_proc=4):   0%|          | 0/9764 [00:00<?, ? examples/s]"
      ]
     },
     "metadata": {},
     "output_type": "display_data"
    }
   ],
   "source": [
    "# Load tokenizer and model\n",
    "model_2 = AutoModelForSequenceClassification.from_pretrained(\n",
    "    MODEL_PATH_MODEL_1,\n",
    "    num_labels=len(labels_2),          # dataset 2 label count\n",
    "    id2label=id_2_to_label,            # dataset 2 id->label mapping\n",
    "    label2id=label_2_to_id,             # dataset 2 label->id mapping\n",
    "    ignore_mismatched_sizes = True\n",
    ")\n",
    "tokenizer_2 = AutoTokenizer.from_pretrained(MODEL_PATH_MODEL_1)\n",
    "\n",
    "# Tokenize dataset\n",
    "dataset_2_specialize = tokenize_dataset(\n",
    "    dataset=dataset_2_specialize,\n",
    "    tokenizer=tokenizer_2,\n",
    "    max_length=512,\n",
    "    num_proc=4\n",
    ")"
   ]
  },
  {
   "cell_type": "code",
   "execution_count": 31,
   "id": "0c3fe778",
   "metadata": {},
   "outputs": [
    {
     "name": "stderr",
     "output_type": "stream",
     "text": [
      "C:\\Users\\PC\\AppData\\Local\\Temp\\ipykernel_2720\\278062464.py:51: FutureWarning: `tokenizer` is deprecated and will be removed in version 5.0.0 for `Trainer.__init__`. Use `processing_class` instead.\n",
      "  trainer = Trainer(\n"
     ]
    },
    {
     "data": {
      "text/html": [
       "\n",
       "    <div>\n",
       "      \n",
       "      <progress value='9765' max='9765' style='width:300px; height:20px; vertical-align: middle;'></progress>\n",
       "      [9765/9765 1:36:29, Epoch 5/5]\n",
       "    </div>\n",
       "    <table border=\"1\" class=\"dataframe\">\n",
       "  <thead>\n",
       " <tr style=\"text-align: left;\">\n",
       "      <th>Step</th>\n",
       "      <th>Training Loss</th>\n",
       "      <th>Validation Loss</th>\n",
       "      <th>Accuracy</th>\n",
       "      <th>F1</th>\n",
       "    </tr>\n",
       "  </thead>\n",
       "  <tbody>\n",
       "    <tr>\n",
       "      <td>500</td>\n",
       "      <td>1.170100</td>\n",
       "      <td>0.763364</td>\n",
       "      <td>0.710958</td>\n",
       "      <td>0.557899</td>\n",
       "    </tr>\n",
       "    <tr>\n",
       "      <td>1000</td>\n",
       "      <td>0.677700</td>\n",
       "      <td>0.585196</td>\n",
       "      <td>0.761905</td>\n",
       "      <td>0.725457</td>\n",
       "    </tr>\n",
       "    <tr>\n",
       "      <td>1500</td>\n",
       "      <td>0.558700</td>\n",
       "      <td>0.531827</td>\n",
       "      <td>0.789171</td>\n",
       "      <td>0.739893</td>\n",
       "    </tr>\n",
       "    <tr>\n",
       "      <td>2000</td>\n",
       "      <td>0.503600</td>\n",
       "      <td>0.511509</td>\n",
       "      <td>0.793779</td>\n",
       "      <td>0.772450</td>\n",
       "    </tr>\n",
       "    <tr>\n",
       "      <td>2500</td>\n",
       "      <td>0.449900</td>\n",
       "      <td>0.518751</td>\n",
       "      <td>0.791987</td>\n",
       "      <td>0.761725</td>\n",
       "    </tr>\n",
       "    <tr>\n",
       "      <td>3000</td>\n",
       "      <td>0.452100</td>\n",
       "      <td>0.503697</td>\n",
       "      <td>0.796979</td>\n",
       "      <td>0.784416</td>\n",
       "    </tr>\n",
       "    <tr>\n",
       "      <td>3500</td>\n",
       "      <td>0.439900</td>\n",
       "      <td>0.468878</td>\n",
       "      <td>0.817716</td>\n",
       "      <td>0.790335</td>\n",
       "    </tr>\n",
       "    <tr>\n",
       "      <td>4000</td>\n",
       "      <td>0.406500</td>\n",
       "      <td>0.462980</td>\n",
       "      <td>0.819124</td>\n",
       "      <td>0.795284</td>\n",
       "    </tr>\n",
       "    <tr>\n",
       "      <td>4500</td>\n",
       "      <td>0.365800</td>\n",
       "      <td>0.467425</td>\n",
       "      <td>0.817332</td>\n",
       "      <td>0.806166</td>\n",
       "    </tr>\n",
       "    <tr>\n",
       "      <td>5000</td>\n",
       "      <td>0.354500</td>\n",
       "      <td>0.503608</td>\n",
       "      <td>0.818100</td>\n",
       "      <td>0.778629</td>\n",
       "    </tr>\n",
       "    <tr>\n",
       "      <td>5500</td>\n",
       "      <td>0.350100</td>\n",
       "      <td>0.451114</td>\n",
       "      <td>0.826293</td>\n",
       "      <td>0.810514</td>\n",
       "    </tr>\n",
       "    <tr>\n",
       "      <td>6000</td>\n",
       "      <td>0.321500</td>\n",
       "      <td>0.471652</td>\n",
       "      <td>0.826165</td>\n",
       "      <td>0.809545</td>\n",
       "    </tr>\n",
       "    <tr>\n",
       "      <td>6500</td>\n",
       "      <td>0.282800</td>\n",
       "      <td>0.517685</td>\n",
       "      <td>0.822709</td>\n",
       "      <td>0.803352</td>\n",
       "    </tr>\n",
       "    <tr>\n",
       "      <td>7000</td>\n",
       "      <td>0.286600</td>\n",
       "      <td>0.486210</td>\n",
       "      <td>0.825397</td>\n",
       "      <td>0.805569</td>\n",
       "    </tr>\n",
       "    <tr>\n",
       "      <td>7500</td>\n",
       "      <td>0.267700</td>\n",
       "      <td>0.482236</td>\n",
       "      <td>0.828213</td>\n",
       "      <td>0.809836</td>\n",
       "    </tr>\n",
       "    <tr>\n",
       "      <td>8000</td>\n",
       "      <td>0.258500</td>\n",
       "      <td>0.521450</td>\n",
       "      <td>0.820917</td>\n",
       "      <td>0.807910</td>\n",
       "    </tr>\n",
       "    <tr>\n",
       "      <td>8500</td>\n",
       "      <td>0.230000</td>\n",
       "      <td>0.513251</td>\n",
       "      <td>0.829493</td>\n",
       "      <td>0.810908</td>\n",
       "    </tr>\n",
       "    <tr>\n",
       "      <td>9000</td>\n",
       "      <td>0.227200</td>\n",
       "      <td>0.531334</td>\n",
       "      <td>0.830773</td>\n",
       "      <td>0.813671</td>\n",
       "    </tr>\n",
       "    <tr>\n",
       "      <td>9500</td>\n",
       "      <td>0.210500</td>\n",
       "      <td>0.534587</td>\n",
       "      <td>0.832437</td>\n",
       "      <td>0.817653</td>\n",
       "    </tr>\n",
       "  </tbody>\n",
       "</table><p>"
      ],
      "text/plain": [
       "<IPython.core.display.HTML object>"
      ]
     },
     "metadata": {},
     "output_type": "display_data"
    },
    {
     "data": {
      "text/plain": [
       "TrainOutput(global_step=9765, training_loss=0.40617538155254435, metrics={'train_runtime': 5807.9693, 'train_samples_per_second': 26.898, 'train_steps_per_second': 1.681, 'total_flos': 4.110431621572608e+16, 'train_loss': 0.40617538155254435, 'epoch': 5.0})"
      ]
     },
     "execution_count": 31,
     "metadata": {},
     "output_type": "execute_result"
    }
   ],
   "source": [
    "\n",
    "# Set format for PyTorch\n",
    "dataset_2_specialize.set_format(\n",
    "    type=\"torch\",\n",
    "    columns=[\"input_ids\", \"attention_mask\", \"labels\"],\n",
    ")\n",
    "\n",
    "accuracy = evaluate.load(\"accuracy\")\n",
    "f1 = evaluate.load(\"f1\")\n",
    "\n",
    "def compute_metrics(p):\n",
    "    preds = p.predictions.argmax(-1)\n",
    "    acc = accuracy.compute(predictions=preds, references=p.label_ids)\n",
    "    f1_score = f1.compute(predictions=preds, references=p.label_ids, average=\"macro\")\n",
    "    \n",
    "    return {**acc, **f1_score}\n",
    "\n",
    "training_args = TrainingArguments(\n",
    "    output_dir=MODEL_PATH_FINETUNE_2,\n",
    "\n",
    "    # Evaluation & saving\n",
    "    eval_strategy=\"steps\",             # evaluate more frequently\n",
    "    eval_steps=500,                    # evaluate every 500 steps\n",
    "    save_strategy=\"steps\",             # save every eval\n",
    "    save_steps=500,\n",
    "    save_total_limit=3,                # keep last 3 checkpoints\n",
    "\n",
    "    # Optimizer\n",
    "    learning_rate=2e-5,\n",
    "    warmup_ratio=0.1,                  # 10% warmup               \n",
    "    weight_decay=0.05,                 # helps reduce overfitting\n",
    "\n",
    "    # Batch size\n",
    "    per_device_train_batch_size=8,\n",
    "    per_device_eval_batch_size=8,\n",
    "    gradient_accumulation_steps=2,     # effective batch size 16\n",
    "\n",
    "    # Mixed precision\n",
    "    fp16=True,                         # faster training\n",
    "\n",
    "    # Training length\n",
    "    num_train_epochs=5,                # shorter to prevent overfitting\n",
    "    load_best_model_at_end=True,       # load checkpoint with best validation loss\n",
    "    metric_for_best_model=\"f1\",  # choose metric to track best model\n",
    "\n",
    "    # Misc\n",
    "    dataloader_num_workers=4,\n",
    "    # logging_steps=100,                 # logs every 100 steps\n",
    "    # logging_dir=f\"{MODEL_PATH_FINETUNE_1}/logs\"\n",
    ")\n",
    "\n",
    "trainer = Trainer(\n",
    "    model=model_2,\n",
    "    args=training_args,\n",
    "    train_dataset=dataset_2_specialize[\"train\"],\n",
    "    eval_dataset=dataset_2_specialize[\"validation\"],  # <-- use validation here\n",
    "    tokenizer=tokenizer_2,\n",
    "    compute_metrics=compute_metrics,\n",
    ")\n",
    "\n",
    "last_checkpoint = get_last_checkpoint(MODEL_PATH_FINETUNE_2)\n",
    "\n",
    "trainer.train(resume_from_checkpoint=last_checkpoint)"
   ]
  },
  {
   "cell_type": "markdown",
   "id": "2cf76fe5",
   "metadata": {},
   "source": [
    "#### Save Checkpoint"
   ]
  },
  {
   "cell_type": "code",
   "execution_count": 32,
   "id": "c53a66fb",
   "metadata": {},
   "outputs": [
    {
     "data": {
      "text/plain": [
       "('../../models/nlp/sentiment_model_2\\\\tokenizer_config.json',\n",
       " '../../models/nlp/sentiment_model_2\\\\special_tokens_map.json',\n",
       " '../../models/nlp/sentiment_model_2\\\\tokenizer.json')"
      ]
     },
     "execution_count": 32,
     "metadata": {},
     "output_type": "execute_result"
    }
   ],
   "source": [
    "model_2.save_pretrained(MODEL_PATH_MODEL_2)\n",
    "tokenizer_2.save_pretrained(MODEL_PATH_MODEL_2)"
   ]
  },
  {
   "cell_type": "markdown",
   "id": "52d727a5",
   "metadata": {},
   "source": [
    "#### Load trained model and then test it in the test dataset"
   ]
  },
  {
   "cell_type": "code",
   "execution_count": 33,
   "id": "0be7a88d",
   "metadata": {},
   "outputs": [],
   "source": [
    "model_test_2 = AutoModelForSequenceClassification.from_pretrained(MODEL_PATH_MODEL_2)\n",
    "tokenizer_test_2 = AutoTokenizer.from_pretrained(MODEL_PATH_MODEL_2)"
   ]
  },
  {
   "cell_type": "markdown",
   "id": "2ff9ee7d",
   "metadata": {},
   "source": [
    "#### Make predictions"
   ]
  },
  {
   "cell_type": "code",
   "execution_count": 34,
   "id": "7c446595",
   "metadata": {},
   "outputs": [
    {
     "name": "stdout",
     "output_type": "stream",
     "text": [
      "CUDA available: True\n",
      "Current device: 0\n",
      "Device name: NVIDIA GeForce RTX 3060\n"
     ]
    },
    {
     "name": "stderr",
     "output_type": "stream",
     "text": [
      "Evaluating: 100%|██████████| 306/306 [02:49<00:00,  1.80batch/s]\n"
     ]
    }
   ],
   "source": [
    "\n",
    "print(\"CUDA available:\", torch.cuda.is_available())\n",
    "print(\"Current device:\", torch.cuda.current_device())\n",
    "print(\"Device name:\", torch.cuda.get_device_name(0) if torch.cuda.is_available() else \"CPU\")\n",
    "\n",
    "model_test_2.to(\"cuda\") # Ensure that model is loaded in the GPU\n",
    "model_test_2.eval()\n",
    "\n",
    "# Torch DataLoader for test set\n",
    "test_loader = DataLoader(dataset_2_specialize[\"test\"], batch_size=32)  # increase batch size if possible\n",
    "\n",
    "all_preds_2 = []\n",
    "all_labels_2 = []\n",
    "\n",
    "with torch.no_grad():\n",
    "    for batch in tqdm(test_loader, desc=\"Evaluating\", unit=\"batch\"):\n",
    "        # Move to GPU if available\n",
    "        batch = {k: v.to(model_test_2.device) for k, v in batch.items() if k in [\"input_ids\", \"attention_mask\", \"labels\"]}\n",
    "\n",
    "        outputs = model_test_2(input_ids=batch[\"input_ids\"], attention_mask=batch[\"attention_mask\"])\n",
    "        preds = torch.argmax(outputs.logits, dim=-1)\n",
    "\n",
    "        all_preds_2.extend(preds.cpu().numpy())\n",
    "        all_labels_2.extend(batch[\"labels\"].cpu().numpy())\n"
   ]
  },
  {
   "cell_type": "markdown",
   "id": "15752fc9",
   "metadata": {},
   "source": [
    "#### Compute Accuracy / F1"
   ]
  },
  {
   "cell_type": "code",
   "execution_count": 35,
   "id": "c96d2e34",
   "metadata": {},
   "outputs": [
    {
     "name": "stdout",
     "output_type": "stream",
     "text": [
      "Train set accuracy: 0.8305\n",
      "Train set F1: 0.8161\n"
     ]
    }
   ],
   "source": [
    "acc_2 = accuracy_score(all_labels_2, all_preds_2)\n",
    "f1_2 = f1_score(all_labels_2, all_preds_2, average=\"macro\")\n",
    "\n",
    "print(f\"Train set accuracy: {acc_2:.4f}\")\n",
    "print(f\"Train set F1: {f1_2:.4f}\")"
   ]
  },
  {
   "cell_type": "code",
   "execution_count": 36,
   "id": "1ed50c72",
   "metadata": {},
   "outputs": [
    {
     "name": "stdout",
     "output_type": "stream",
     "text": [
      "Total examples: 31244\n",
      "Class counts: Counter({np.int64(1): 10550, np.int64(2): 9765, np.int64(3): 6797, np.int64(0): 2445, np.int64(4): 1687})\n",
      "\n",
      "Majority baseline: predict class 1 (count=10550)\n",
      "  Accuracy = 0.3377\n",
      "  Macro-F1 = 0.1010\n",
      "\n",
      "Random(prior) analytic expected accuracy = sum(p_i^2) = 0.2681\n",
      "Random(prior) simulated (n=2000):\n",
      "  Accuracy mean = 0.2681 (std 0.0024)\n",
      "  Macro-F1 mean = 0.2001 (std 0.0022)\n",
      "\n",
      "Classification report for majority baseline (per-class):\n",
      "              precision    recall  f1-score   support\n",
      "\n",
      "           0       0.00      0.00      0.00      2445\n",
      "           1       0.34      1.00      0.50     10550\n",
      "           2       0.00      0.00      0.00      9765\n",
      "           3       0.00      0.00      0.00      6797\n",
      "           4       0.00      0.00      0.00      1687\n",
      "\n",
      "    accuracy                           0.34     31244\n",
      "   macro avg       0.07      0.20      0.10     31244\n",
      "weighted avg       0.11      0.34      0.17     31244\n",
      "\n"
     ]
    }
   ],
   "source": [
    "baselines_2 = compute_baselines(dataset_2_specialize[\"train\"], label_names=None, n_sim=2000)"
   ]
  }
 ],
 "metadata": {
  "kernelspec": {
   "display_name": "heron-wellnest-ml",
   "language": "python",
   "name": "python3"
  },
  "language_info": {
   "codemirror_mode": {
    "name": "ipython",
    "version": 3
   },
   "file_extension": ".py",
   "mimetype": "text/x-python",
   "name": "python",
   "nbconvert_exporter": "python",
   "pygments_lexer": "ipython3",
   "version": "3.12.0"
  }
 },
 "nbformat": 4,
 "nbformat_minor": 5
}
