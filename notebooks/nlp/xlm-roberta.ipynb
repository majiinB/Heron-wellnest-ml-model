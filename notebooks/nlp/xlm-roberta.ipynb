{
 "cells": [
  {
   "cell_type": "markdown",
   "id": "ba5d6aa3",
   "metadata": {},
   "source": [
    "# XLM-ROBERTA Fine Tuning Pipeline\n",
    "This notebook automates the fine tuning of NLP model XLM-ROBERTA\n"
   ]
  },
  {
   "cell_type": "markdown",
   "id": "299258df",
   "metadata": {},
   "source": [
    "## Setup & Imports\n"
   ]
  },
  {
   "cell_type": "code",
   "execution_count": 1,
   "id": "22748f6c",
   "metadata": {},
   "outputs": [],
   "source": [
    "from datasets import load_dataset, Dataset, DatasetDict\n",
    "from transformers import AutoTokenizer, AutoModelForSequenceClassification, TrainingArguments, Trainer\n",
    "from transformers.trainer_utils import get_last_checkpoint\n",
    "from transformers.tokenization_utils_base import PreTrainedTokenizerBase\n",
    "from torch.utils.data import DataLoader\n",
    "from sklearn.metrics import accuracy_score, f1_score\n",
    "from sklearn.utils import resample\n",
    "from torch.nn import CrossEntropyLoss\n",
    "import torch\n",
    "import torch.nn as nn\n",
    "import torch.nn.functional as F\n",
    "import evaluate\n",
    "import numpy as np\n",
    "import pandas as pd\n",
    "import matplotlib.pyplot as plt\n",
    "import re\n",
    "import string\n",
    "from tqdm import tqdm\n",
    "from typing import List"
   ]
  },
  {
   "cell_type": "markdown",
   "id": "0f3c53f9",
   "metadata": {},
   "source": [
    "## Configurations\n"
   ]
  },
  {
   "cell_type": "code",
   "execution_count": 2,
   "id": "d39530bc",
   "metadata": {},
   "outputs": [],
   "source": [
    "DATA_PATHS = [\n",
    "  \"../../data/nlp/tweet_emotions.csv\",\n",
    "  \"../../data/nlp/Sentiment-analysis-for-mental-health.csv\"\n",
    "]\n",
    "MODEL_NAME = \"xlm-roberta-base\"\n",
    "\n",
    "MODEL_PATH_FINETUNE_1 = \"../../models/nlp/sentiment_finetune_1\"\n",
    "MODEL_PATH_MODEL_1 = \"../../models/nlp/sentiment_model_1\"\n",
    "\n",
    "MODEL_PATH_FINETUNE_2 = \"../../models/nlp/sentiment_finetune_2\"\n",
    "MODEL_PATH_MODEL_2 = \"../../models/nlp/sentiment_model_2\"\n"
   ]
  },
  {
   "cell_type": "markdown",
   "id": "652fa910",
   "metadata": {},
   "source": [
    "## Load Data"
   ]
  },
  {
   "cell_type": "code",
   "execution_count": 3,
   "id": "a0bdbffc",
   "metadata": {},
   "outputs": [
    {
     "name": "stdout",
     "output_type": "stream",
     "text": [
      "\n",
      "Dataset: tweet_emotions\n",
      "DatasetDict({\n",
      "    train: Dataset({\n",
      "        features: ['labels', 'text'],\n",
      "        num_rows: 40000\n",
      "    })\n",
      "})\n",
      "\n",
      "Dataset: Sentiment-analysis-for-mental-health\n",
      "DatasetDict({\n",
      "    train: Dataset({\n",
      "        features: ['text', 'labels'],\n",
      "        num_rows: 53043\n",
      "    })\n",
      "})\n"
     ]
    }
   ],
   "source": [
    "# Load two datasets\n",
    "dataset_1_broad_emotion = load_dataset(\"csv\", data_files=DATA_PATHS[0])\n",
    "dataset_2_specialize = load_dataset(\"csv\", data_files=DATA_PATHS[1])\n",
    "\n",
    "# Define functions to rename datasets\n",
    "def rename_data_columns(data: Dataset, column_names_to_change: List[str], new_column_names: List[str]) -> Dataset:\n",
    "    if len(column_names_to_change) != len(new_column_names):\n",
    "        raise ValueError(\"Both lists must have the same length.\")\n",
    "    \n",
    "    dataset = data\n",
    "    for old_name, new_name in zip(column_names_to_change, new_column_names):\n",
    "        dataset = dataset.rename_column(old_name, new_name)\n",
    "\n",
    "    print(dataset)\n",
    "    \n",
    "    return dataset\n",
    "\n",
    "# Remove unwanted column\n",
    "dataset_1_broad_emotion = dataset_1_broad_emotion.remove_columns([\"tweet_id\"])\n",
    "dataset_2_specialize = dataset_2_specialize.remove_columns([\"Unnamed: 0\"])\n",
    "\n",
    "# Rename\n",
    "print(\"\\nDataset: tweet_emotions\")\n",
    "dataset_1_broad_emotion = rename_data_columns(\n",
    "    data=dataset_1_broad_emotion,\n",
    "    column_names_to_change=['sentiment', 'content'],\n",
    "    new_column_names=['labels', 'text']\n",
    "  )\n",
    "\n",
    "print(\"\\nDataset: Sentiment-analysis-for-mental-health\")\n",
    "dataset_2_specialize = rename_data_columns(\n",
    "    data=dataset_2_specialize,\n",
    "    column_names_to_change=['status', 'statement'],\n",
    "    new_column_names=['labels', 'text']\n",
    "  )\n"
   ]
  },
  {
   "cell_type": "markdown",
   "id": "38d39e28",
   "metadata": {},
   "source": [
    "## Data Pre-processing & Visualization\n"
   ]
  },
  {
   "cell_type": "markdown",
   "id": "c8ab05fb",
   "metadata": {},
   "source": [
    "### Check unique labels\n",
    "\n"
   ]
  },
  {
   "cell_type": "markdown",
   "id": "8c2a13ee",
   "metadata": {},
   "source": [
    "#### labels visualization\n"
   ]
  },
  {
   "cell_type": "code",
   "execution_count": 4,
   "id": "fceac638",
   "metadata": {},
   "outputs": [
    {
     "name": "stdout",
     "output_type": "stream",
     "text": [
      "labels\n",
      "neutral       8638\n",
      "worry         8459\n",
      "happiness     5209\n",
      "sadness       5165\n",
      "love          3842\n",
      "surprise      2187\n",
      "fun           1776\n",
      "relief        1526\n",
      "hate          1323\n",
      "empty          827\n",
      "enthusiasm     759\n",
      "boredom        179\n",
      "anger          110\n",
      "Name: count, dtype: int64\n",
      "labels\n",
      "Normal                  16351\n",
      "Depression              15404\n",
      "Suicidal                10653\n",
      "Anxiety                  3888\n",
      "Bipolar                  2877\n",
      "Stress                   2669\n",
      "Personality disorder     1201\n",
      "Name: count, dtype: int64\n"
     ]
    },
    {
     "data": {
      "image/png": "[encoded data removed]",
      "text/plain": [
       "<Figure size 500x300 with 1 Axes>"
      ]
     },
     "metadata": {},
     "output_type": "display_data"
    },
    {
     "data": {
      "image/png": "[encoded data removed]",
      "text/plain": [
       "<Figure size 500x300 with 1 Axes>"
      ]
     },
     "metadata": {},
     "output_type": "display_data"
    }
   ],
   "source": [
    "def label_visualization():\n",
    "  # Convert data to pandas dataframe for visualization\n",
    "  df_dataset_1 = dataset_1_broad_emotion[\"train\"].to_pandas()\n",
    "  df_dataset_2 = dataset_2_specialize[\"train\"].to_pandas()\n",
    "\n",
    "  # Count label frequencies\n",
    "  label_for_df1_counts = df_dataset_1[\"labels\"].value_counts()\n",
    "  print(label_for_df1_counts)\n",
    "  label_for_df2_counts = df_dataset_2[\"labels\"].value_counts()\n",
    "  print(label_for_df2_counts)\n",
    "\n",
    "\n",
    "  # Plot distribution for df_dataset_1\n",
    "  plt.figure(figsize=(5, 3))\n",
    "  label_for_df1_counts.plot(kind=\"bar\")\n",
    "  plt.xticks(rotation=45, ha=\"right\")\n",
    "  plt.title(\"Label Distribution in df_dataset_1 (Train)\")\n",
    "  plt.xlabel(\"Labels\")\n",
    "  plt.ylabel(\"Count\")\n",
    "  plt.show()\n",
    "\n",
    "  # Plot distribution for df_dataset_2\n",
    "  plt.figure(figsize=(5, 3))\n",
    "  label_for_df2_counts.plot(kind=\"bar\")\n",
    "  plt.xticks(rotation=45, ha=\"right\")\n",
    "  plt.title(\"Label Distribution in df_dataset_2 (Train)\")\n",
    "  plt.xlabel(\"Labels\")\n",
    "  plt.ylabel(\"Count\")\n",
    "  plt.show()\n",
    "\n",
    "label_visualization()"
   ]
  },
  {
   "cell_type": "markdown",
   "id": "088c07c7",
   "metadata": {},
   "source": [
    "### Remove special characters"
   ]
  },
  {
   "cell_type": "code",
   "execution_count": 5,
   "id": "c4e10b99",
   "metadata": {},
   "outputs": [],
   "source": [
    "def clean_text(example):\n",
    "    text = example.get(\"text\", \"\")\n",
    "\n",
    "    if text is None or not isinstance(text, str) or text.strip() == \"\":\n",
    "        return {\"text\": \"\"}   # keep it empty; will be dropped later\n",
    "\n",
    "    # Lowercase\n",
    "    text = text.lower()\n",
    "\n",
    "    # Remove URLs\n",
    "    text = re.sub(r'https?://\\S+', '', text)\n",
    "\n",
    "    # Remove punctuation\n",
    "    text = text.translate(str.maketrans('', '', string.punctuation))\n",
    "\n",
    "    # Remove newlines and other non-word characters except spaces\n",
    "    text = re.sub(r'[^a-zA-Z\\s]', '', text)\n",
    "\n",
    "    # Remove words containing numbers\n",
    "    text = re.sub(r'\\w*\\d\\w*', '', text)\n",
    "\n",
    "    # Remove extra spaces\n",
    "    text = re.sub(r'\\s+', ' ', text).strip()\n",
    "\n",
    "    return {\"text\": text}\n",
    "\n",
    "\n",
    "dataset_1_broad_emotion = dataset_1_broad_emotion.map(clean_text)\n",
    "dataset_2_specialize = dataset_2_specialize.map(clean_text)"
   ]
  },
  {
   "cell_type": "markdown",
   "id": "99a0131c",
   "metadata": {},
   "source": [
    "### Check for rows that has null or blank values"
   ]
  },
  {
   "cell_type": "code",
   "execution_count": 6,
   "id": "9db5fca1",
   "metadata": {},
   "outputs": [
    {
     "name": "stdout",
     "output_type": "stream",
     "text": [
      "Checking split: train in Dataset 1\n",
      "\n",
      "Nulls in each column:\n",
      "text      0\n",
      "labels    0\n",
      "dtype: int64\n",
      "\n",
      "\n",
      "Rows where text or labels are null/blank:\n",
      "Empty DataFrame\n",
      "Columns: [labels, text]\n",
      "Index: []\n",
      "\n",
      "\n",
      "Check for blank and empty string values:\n",
      "Blank texts: 4\n",
      "Blank labels: 0\n",
      "\n",
      "\n",
      "Checking split: train in Dataset 2\n",
      "\n",
      "Nulls in each column:\n",
      "text      0\n",
      "labels    0\n",
      "dtype: int64\n",
      "\n",
      "\n",
      "Rows where text or labels are null/blank:\n",
      "Empty DataFrame\n",
      "Columns: [text, labels]\n",
      "Index: []\n",
      "\n",
      "\n",
      "Check for blank and empty string values:\n",
      "Blank texts: 369\n",
      "Blank labels: 0\n",
      "\n",
      "\n"
     ]
    }
   ],
   "source": [
    "def check_for_null_blank(dataset, dataset_name=\"Dataset\"):\n",
    "    import pandas as pd\n",
    "\n",
    "    # If it's a DatasetDict, loop over splits\n",
    "    if hasattr(dataset, \"keys\"):  # DatasetDict\n",
    "        for split in dataset.keys():\n",
    "            print(f\"Checking split: {split} in {dataset_name}\\n\")\n",
    "            df = dataset[split].to_pandas()\n",
    "            \n",
    "            # Nulls\n",
    "            print(\"Nulls in each column:\")\n",
    "            print(df[[\"text\", \"labels\"]].isnull().sum())\n",
    "            print(\"\\n\")\n",
    "            \n",
    "            # Rows with nulls\n",
    "            print(\"Rows where text or labels are null/blank:\")\n",
    "            print(df[df[\"text\"].isnull() | df[\"labels\"].isnull()])\n",
    "            print(\"\\n\")\n",
    "            \n",
    "            # Blank strings\n",
    "            print(\"Check for blank and empty string values:\")\n",
    "            print(\"Blank texts:\", (df[\"text\"].str.strip() == \"\").sum())\n",
    "            print(\"Blank labels:\", (df[\"labels\"].astype(str).str.strip() == \"\").sum())\n",
    "            print(\"\\n\")\n",
    "    else:  # Single Dataset\n",
    "        df = dataset.to_pandas()\n",
    "        print(f\"Checking {dataset_name}\\n\")\n",
    "        print(\"Nulls in each column:\")\n",
    "        print(df[[\"text\", \"labels\"]].isnull().sum())\n",
    "        print(\"\\n\")\n",
    "        print(\"Rows where text or labels are null/blank:\")\n",
    "        print(df[df[\"text\"].isnull() | df[\"labels\"].isnull()])\n",
    "        print(\"\\n\")\n",
    "        print(\"Check for blank and empty string values:\")\n",
    "        print(\"Blank texts:\", (df[\"text\"].str.strip() == \"\").sum())\n",
    "        print(\"Blank labels:\", (df[\"labels\"].astype(str).str.strip() == \"\").sum())\n",
    "        print(\"\\n\")\n",
    "\n",
    "check_for_null_blank(dataset_1_broad_emotion, \"Dataset 1\")\n",
    "check_for_null_blank(dataset_2_specialize, \"Dataset 2\")\n"
   ]
  },
  {
   "cell_type": "markdown",
   "id": "ebfbf40b",
   "metadata": {},
   "source": [
    "### Drop rows that has null / blank / empty string values"
   ]
  },
  {
   "cell_type": "code",
   "execution_count": 7,
   "id": "f97c4f01",
   "metadata": {},
   "outputs": [
    {
     "name": "stdout",
     "output_type": "stream",
     "text": [
      "✅ Cleaned train: 40000 → 39996 rows\n",
      "✅ Cleaned train: 53043 → 52674 rows\n",
      "Checking split: train in Dataset\n",
      "\n",
      "Nulls in each column:\n",
      "text      0\n",
      "labels    0\n",
      "dtype: int64\n",
      "\n",
      "\n",
      "Rows where text or labels are null/blank:\n",
      "Empty DataFrame\n",
      "Columns: [labels, text, __index_level_0__]\n",
      "Index: []\n",
      "\n",
      "\n",
      "Check for blank and empty string values:\n",
      "Blank texts: 0\n",
      "Blank labels: 0\n",
      "\n",
      "\n",
      "Checking split: train in Dataset\n",
      "\n",
      "Nulls in each column:\n",
      "text      0\n",
      "labels    0\n",
      "dtype: int64\n",
      "\n",
      "\n",
      "Rows where text or labels are null/blank:\n",
      "Empty DataFrame\n",
      "Columns: [text, labels, __index_level_0__]\n",
      "Index: []\n",
      "\n",
      "\n",
      "Check for blank and empty string values:\n",
      "Blank texts: 0\n",
      "Blank labels: 0\n",
      "\n",
      "\n"
     ]
    }
   ],
   "source": [
    "# Drop rows where statement or status is null\n",
    "def drop_nulls_from_dataset(dataset, columns=[\"text\", \"labels\"]):\n",
    "    \"\"\"\n",
    "    Drops null and blank values from a Dataset or DatasetDict.\n",
    "    Works for both cases.\n",
    "    \"\"\"\n",
    "    if isinstance(dataset, DatasetDict):  # Case 1: DatasetDict with train/test\n",
    "        cleaned_splits = {}\n",
    "        for split_name, ds_split in dataset.items():\n",
    "            df = ds_split.to_pandas()\n",
    "            df = df.dropna(subset=columns)\n",
    "            if \"text\" in columns:\n",
    "                df = df[df[\"text\"].str.strip() != \"\"]\n",
    "            cleaned_splits[split_name] = Dataset.from_pandas(df)\n",
    "            print(f\"✅ Cleaned {split_name}: {len(ds_split)} → {len(df)} rows\")\n",
    "        return DatasetDict(cleaned_splits)\n",
    "\n",
    "    elif isinstance(dataset, Dataset):  # Case 2: Single Dataset\n",
    "        df = dataset.to_pandas()\n",
    "        df = df.dropna(subset=columns)\n",
    "        if \"text\" in columns:\n",
    "            df = df[df[\"text\"].str.strip() != \"\"]\n",
    "        cleaned_dataset = Dataset.from_pandas(df)\n",
    "        print(f\"✅ Cleaned dataset: {len(dataset)} → {len(df)} rows\")\n",
    "        return cleaned_dataset\n",
    "\n",
    "    else:\n",
    "        raise TypeError(\"Expected Dataset or DatasetDict\")\n",
    "\n",
    "dataset_1_broad_emotion = drop_nulls_from_dataset(dataset_1_broad_emotion)\n",
    "dataset_2_specialize = drop_nulls_from_dataset(dataset_2_specialize)\n",
    "\n",
    "# Check counts again\n",
    "check_for_null_blank(dataset_1_broad_emotion);\n",
    "check_for_null_blank(dataset_2_specialize);"
   ]
  },
  {
   "cell_type": "markdown",
   "id": "fbc6e6a4",
   "metadata": {},
   "source": [
    "### Feature engineer Dataset 1"
   ]
  },
  {
   "cell_type": "code",
   "execution_count": 8,
   "id": "5090e6bd",
   "metadata": {},
   "outputs": [
    {
     "name": "stdout",
     "output_type": "stream",
     "text": [
      "Original distribution:\n",
      "labels\n",
      "neutral       8635\n",
      "worry         8459\n",
      "happiness     5209\n",
      "sadness       5165\n",
      "love          3842\n",
      "surprise      2187\n",
      "fun           1776\n",
      "relief        1526\n",
      "hate          1323\n",
      "empty          826\n",
      "enthusiasm     759\n",
      "boredom        179\n",
      "anger          110\n",
      "Name: count, dtype: int64\n",
      "\n",
      "After grouping:\n",
      "grouped_label\n",
      "Positive    13112\n",
      "Neutral      8635\n",
      "Anxiety      8459\n",
      "Sadness      6170\n",
      "Surprise     2187\n",
      "Anger        1433\n",
      "Name: count, dtype: int64\n",
      "\n",
      "Balanced distribution:\n",
      "grouped_label\n",
      "Anger       13112\n",
      "Anxiety     13112\n",
      "Neutral     13112\n",
      "Positive    13112\n",
      "Sadness     13112\n",
      "Surprise    13112\n",
      "Name: count, dtype: int64\n",
      "\n",
      "Final dataset size: 1\n",
      "DatasetDict({\n",
      "    train: Dataset({\n",
      "        features: ['text', 'labels'],\n",
      "        num_rows: 78672\n",
      "    })\n",
      "})\n"
     ]
    }
   ],
   "source": [
    "# Convert dataset 1 to a dataframe first\n",
    "df_1 = dataset_1_broad_emotion[\"train\"].to_pandas()\n",
    "\n",
    "print(\"Original distribution:\")\n",
    "print(df_1['labels'].value_counts())\n",
    "\n",
    "# Define mapping: fine -> grouped\n",
    "\n",
    "label_mapping = {\n",
    "    \"happiness\": \"Positive\",\n",
    "    \"fun\": \"Positive\",\n",
    "    \"enthusiasm\": \"Positive\",\n",
    "    \"relief\": \"Positive\",\n",
    "    \"love\": \"Positive\",\n",
    "    \n",
    "    \"worry\": \"Anxiety\",\n",
    "    \n",
    "    \"sadness\": \"Sadness\",\n",
    "    \"empty\": \"Sadness\",\n",
    "    \"boredom\": \"Sadness\",\n",
    "    \n",
    "    \"anger\": \"Anger\",\n",
    "    \"hate\": \"Anger\",\n",
    "    \n",
    "    \"surprise\": \"Surprise\",\n",
    "    \"neutral\": \"Neutral\"\n",
    "}\n",
    "\n",
    "# Apply mapping\n",
    "df_1[\"grouped_label\"] = df_1[\"labels\"].map(label_mapping)\n",
    "\n",
    "print(\"\\nAfter grouping:\")\n",
    "print(df_1[\"grouped_label\"].value_counts())\n",
    "\n",
    "# Balance Dataset\n",
    "# Get max class count\n",
    "max_count = df_1[\"grouped_label\"].value_counts().max()\n",
    "\n",
    "balanced_dfs = []\n",
    "for label, group in df_1.groupby(\"grouped_label\"):\n",
    "    # Upsample minority classes\n",
    "    balanced_group = resample(group, \n",
    "                              replace=True,     # sample with replacement\n",
    "                              n_samples=max_count, \n",
    "                              random_state=42)\n",
    "    balanced_dfs.append(balanced_group)\n",
    "\n",
    "balanced_df = pd.concat(balanced_dfs)\n",
    "\n",
    "print(\"\\nBalanced distribution:\")\n",
    "print(balanced_df[\"grouped_label\"].value_counts())\n",
    "\n",
    "# Keep only the two columns we want\n",
    "df_clean = balanced_df[[\"text\", \"grouped_label\"]].rename(columns={\"grouped_label\": \"labels\"})\n",
    "\n",
    "# Convert to HF Dataset\n",
    "dataset_clean = Dataset.from_pandas(df_clean, preserve_index=False)\n",
    "\n",
    "# Wrap in DatasetDict\n",
    "dataset_1_broad_emotion = DatasetDict({\n",
    "    \"train\": dataset_clean\n",
    "})\n",
    "\n",
    "\n",
    "\n",
    "print(\"\\nFinal dataset size:\", len(dataset_1_broad_emotion))\n",
    "print(dataset_1_broad_emotion)\n",
    "\n"
   ]
  },
  {
   "cell_type": "markdown",
   "id": "e8dd53da",
   "metadata": {},
   "source": [
    "### Check thhe max length the text column contains"
   ]
  },
  {
   "cell_type": "code",
   "execution_count": 9,
   "id": "038558f4",
   "metadata": {},
   "outputs": [
    {
     "name": "stdout",
     "output_type": "stream",
     "text": [
      "Dataset 1\n",
      "Max: 151\n",
      "Min: 3\n",
      "Short text count: 2\n",
      "Long text count: 1\n",
      "\n",
      "Dataset 2\n",
      "Max: 31499\n",
      "Min: 2\n",
      "Short text count: 8\n",
      "Long text count: 1\n"
     ]
    }
   ],
   "source": [
    "def get_min_max_len(example):\n",
    "  lengths = example[\"train\"].to_pandas()['text'].str.len()\n",
    "\n",
    "  max_length = lengths.max()\n",
    "  min_length = lengths.min()\n",
    "  short_texts_count = (lengths <= min_length).sum()\n",
    "  long_texts_count = (lengths >= max_length).sum()\n",
    "\n",
    "  print(f\"Max: {max_length}\")\n",
    "  print(f\"Min: {min_length}\")\n",
    "  print(f'Short text count: {short_texts_count}')\n",
    "  print(f'Long text count: {long_texts_count}')\n",
    "\n",
    "print(\"Dataset 1\")\n",
    "get_min_max_len(dataset_1_broad_emotion)\n",
    "print('\\nDataset 2')\n",
    "get_min_max_len(dataset_2_specialize)\n"
   ]
  },
  {
   "cell_type": "markdown",
   "id": "351b9c5d",
   "metadata": {},
   "source": [
    "### Pre-process and encode label"
   ]
  },
  {
   "cell_type": "code",
   "execution_count": 10,
   "id": "127b18cc",
   "metadata": {},
   "outputs": [
    {
     "data": {
      "application/vnd.jupyter.widget-view+json": {
       "model_id": "2877fbc0d47846df88aeb2448b5254ef",
       "version_major": 2,
       "version_minor": 0
      },
      "text/plain": [
       "Filter:   0%|          | 0/52674 [00:00<?, ? examples/s]"
      ]
     },
     "metadata": {},
     "output_type": "display_data"
    },
    {
     "data": {
      "application/vnd.jupyter.widget-view+json": {
       "model_id": "a18c55e19c914ac5acbe643b54f726a6",
       "version_major": 2,
       "version_minor": 0
      },
      "text/plain": [
       "Map:   0%|          | 0/78672 [00:00<?, ? examples/s]"
      ]
     },
     "metadata": {},
     "output_type": "display_data"
    },
    {
     "data": {
      "application/vnd.jupyter.widget-view+json": {
       "model_id": "d6e0af395c3f4819bc8344d2cacb2d31",
       "version_major": 2,
       "version_minor": 0
      },
      "text/plain": [
       "Map:   0%|          | 0/48820 [00:00<?, ? examples/s]"
      ]
     },
     "metadata": {},
     "output_type": "display_data"
    },
    {
     "name": "stdout",
     "output_type": "stream",
     "text": [
      "labels\n",
      "0    13112\n",
      "1    13112\n",
      "2    13112\n",
      "3    13112\n",
      "4    13112\n",
      "5    13112\n",
      "Name: count, dtype: int64\n",
      "labels\n",
      "1    16339\n",
      "2    15404\n",
      "3    10649\n",
      "0     3841\n",
      "4     2587\n",
      "Name: count, dtype: int64\n"
     ]
    },
    {
     "data": {
      "image/png": "[encoded data removed]",
      "text/plain": [
       "<Figure size 500x300 with 1 Axes>"
      ]
     },
     "metadata": {},
     "output_type": "display_data"
    },
    {
     "data": {
      "image/png": "[encoded data removed]",
      "text/plain": [
       "<Figure size 500x300 with 1 Axes>"
      ]
     },
     "metadata": {},
     "output_type": "display_data"
    }
   ],
   "source": [
    "# Get unique labels\n",
    "labels_1 = dataset_1_broad_emotion[\"train\"].unique(\"labels\")\n",
    "label_1_to_id = {l: i for i, l in enumerate(labels_1)}\n",
    "id_1_to_label = {i: l for l, i in label_1_to_id.items()}\n",
    "\n",
    "labels_2 = dataset_2_specialize[\"train\"].unique(\"labels\")\n",
    "label_2_to_id = {l: i for i, l in enumerate(labels_2)}\n",
    "id_2_to_label = {i: l for l, i in label_2_to_id.items()}\n",
    "\n",
    "# Based on the graphs above i don't want \"Bipolar\", \"Personality disorder\"\n",
    "unwanted_labels = [\"Bipolar\", \"Personality disorder\"]\n",
    "dataset_2_specialize[\"train\"] = dataset_2_specialize[\"train\"].filter(\n",
    "    lambda example: example[\"labels\"] not in unwanted_labels\n",
    ")\n",
    "\n",
    "def make_label_encoder(label_to_id: dict, column_name: str = \"labels\"):\n",
    "    \"\"\"Returns a function that encodes labels for the given column using label_to_id mapping.\"\"\"\n",
    "    def encode_labels(example):\n",
    "        example[column_name] = label_to_id[example[column_name]]\n",
    "        return example\n",
    "    return encode_labels\n",
    "\n",
    "encoder_for_data1 = make_label_encoder(label_1_to_id, column_name=\"labels\")\n",
    "encoder_for_data2 = make_label_encoder(label_2_to_id, column_name=\"labels\")\n",
    "\n",
    "dataset_1_broad_emotion = dataset_1_broad_emotion.map(encoder_for_data1)\n",
    "dataset_2_specialize = dataset_2_specialize.map(encoder_for_data2)\n",
    "\n",
    "# Re check if changes were applied correctly\n",
    "label_visualization()"
   ]
  },
  {
   "cell_type": "markdown",
   "id": "be969cc4",
   "metadata": {},
   "source": [
    "### Split training data to validation to test"
   ]
  },
  {
   "cell_type": "code",
   "execution_count": 11,
   "id": "67740ffb",
   "metadata": {},
   "outputs": [
    {
     "name": "stdout",
     "output_type": "stream",
     "text": [
      "DatasetDict({\n",
      "    train: Dataset({\n",
      "        features: ['text', 'labels'],\n",
      "        num_rows: 50349\n",
      "    })\n",
      "    validation: Dataset({\n",
      "        features: ['text', 'labels'],\n",
      "        num_rows: 12588\n",
      "    })\n",
      "    test: Dataset({\n",
      "        features: ['text', 'labels'],\n",
      "        num_rows: 15735\n",
      "    })\n",
      "})\n",
      "DatasetDict({\n",
      "    train: Dataset({\n",
      "        features: ['text', 'labels', '__index_level_0__'],\n",
      "        num_rows: 31244\n",
      "    })\n",
      "    validation: Dataset({\n",
      "        features: ['text', 'labels', '__index_level_0__'],\n",
      "        num_rows: 7812\n",
      "    })\n",
      "    test: Dataset({\n",
      "        features: ['text', 'labels', '__index_level_0__'],\n",
      "        num_rows: 9764\n",
      "    })\n",
      "})\n"
     ]
    }
   ],
   "source": [
    "def split_dataset_to_train_valid_test(dataset: DatasetDict, test_size: float = 0.2, val_size: float = 0.2, seed: int = 42) -> DatasetDict:\n",
    "    \"\"\"\n",
    "    Splits a dataset into train, validation, and test sets.\n",
    "    - First, takes a portion (test_size) from 'train' to make the test set.\n",
    "    - Then, splits the remaining train into train/validation (val_size).\n",
    "    \"\"\"\n",
    "    if \"train\" not in dataset:\n",
    "        raise ValueError(\"DatasetDict must contain a 'train' split.\")\n",
    "\n",
    "    # Split into train + test\n",
    "    data = dataset[\"train\"].train_test_split(test_size=test_size, seed=seed)\n",
    "    original_train = data[\"train\"]\n",
    "    original_test = data[\"test\"]\n",
    "\n",
    "    # Split original train further into train + validation\n",
    "    train_valid_split = original_train.train_test_split(test_size=val_size, seed=seed)\n",
    "\n",
    "    return DatasetDict({\n",
    "        \"train\": train_valid_split[\"train\"],\n",
    "        \"validation\": train_valid_split[\"test\"],\n",
    "        \"test\": original_test\n",
    "    })\n",
    "\n",
    "dataset_1_broad_emotion = split_dataset_to_train_valid_test(dataset_1_broad_emotion)\n",
    "dataset_2_specialize = split_dataset_to_train_valid_test(dataset_2_specialize)\n",
    "\n",
    "print(dataset_1_broad_emotion)\n",
    "print(dataset_2_specialize)"
   ]
  },
  {
   "cell_type": "markdown",
   "id": "2a192311",
   "metadata": {},
   "source": [
    "## Model Training / Fine Tuning\n"
   ]
  },
  {
   "cell_type": "markdown",
   "id": "f2d47ba0",
   "metadata": {},
   "source": [
    "### Define model training functions"
   ]
  },
  {
   "cell_type": "markdown",
   "id": "3e9f6f9e",
   "metadata": {},
   "source": [
    "#### Load Tokenizer + Model"
   ]
  },
  {
   "cell_type": "code",
   "execution_count": 12,
   "id": "62aa64a2",
   "metadata": {},
   "outputs": [],
   "source": [
    "def load_model_and_tokenizer(model_name: str, labels: list[str], id2label: dict[int, str], label2id: dict[str, int]):\n",
    "    \"\"\"\n",
    "    Loads a tokenizer and model for sequence classification.\n",
    "\n",
    "    Args:\n",
    "        model_name (str): Hugging Face model name or path.\n",
    "        labels (list[str]): List of labels for classification.\n",
    "        id2label (dict[int, str]): Mapping from ID to label name.\n",
    "        label2id (dict[str, int]): Mapping from label name to ID.\n",
    "\n",
    "    Returns:\n",
    "        tokenizer, model\n",
    "    \"\"\"\n",
    "    tokenizer = AutoTokenizer.from_pretrained(model_name)\n",
    "    model = AutoModelForSequenceClassification.from_pretrained(\n",
    "        model_name,\n",
    "        num_labels=len(labels),\n",
    "        id2label=id2label,\n",
    "        label2id=label2id\n",
    "    )\n",
    "    return tokenizer, model\n",
    "\n",
    "def tokenize_dataset(dataset: Dataset, tokenizer: PreTrainedTokenizerBase, max_length: int = 256, num_proc: int = 4):\n",
    "    return dataset.map(\n",
    "        lambda examples: tokenizer(\n",
    "            examples[\"text\"],\n",
    "            truncation=True,\n",
    "            padding=\"max_length\",\n",
    "            max_length=max_length,\n",
    "        ),\n",
    "        batched=True,\n",
    "        num_proc=num_proc\n",
    "    )\n",
    "\n"
   ]
  },
  {
   "cell_type": "markdown",
   "id": "4302487d",
   "metadata": {},
   "source": [
    "#### Check max length to use"
   ]
  },
  {
   "cell_type": "code",
   "execution_count": 13,
   "id": "630e58a7",
   "metadata": {},
   "outputs": [],
   "source": [
    "def plot_token_length_distribution(dataset, text_column='text', dataset_name=\"Dataset\"):\n",
    "    \"\"\"\n",
    "    Plots the distribution of sentence lengths or token lengths.\n",
    "    \n",
    "    Args:\n",
    "        dataset: Hugging Face Dataset (tokenized or raw).\n",
    "        text_column: Name of the column to measure length on. \n",
    "                     Use 'text' for raw strings or 'input_ids' for tokenized lists.\n",
    "        dataset_name: Optional name for labeling the plot.\n",
    "    \"\"\"\n",
    "    # Check first row type to decide how to measure length\n",
    "    first_elem = dataset[0][text_column]\n",
    "    \n",
    "    if isinstance(first_elem, list):  # tokenized\n",
    "        lengths = [len(x) for x in dataset[text_column]]\n",
    "        unit = \"tokens\"\n",
    "    elif isinstance(first_elem, str):  # raw text\n",
    "        lengths = [len(x.split()) for x in dataset[text_column]]  # measure words\n",
    "        unit = \"words\"\n",
    "    else:\n",
    "        raise ValueError(f\"Column {text_column} has unsupported type: {type(first_elem)}\")\n",
    "    \n",
    "    print(f\"{dataset_name} {unit} stats:\")\n",
    "    print('Max length:', max(lengths))\n",
    "    print('Min length:', min(lengths))\n",
    "    \n",
    "    plt.figure(figsize=(5, 2))\n",
    "    plt.hist(lengths, bins=50, rwidth=0.9)\n",
    "    plt.xlabel(f'Sequence Length ({unit})', fontsize=6)\n",
    "    plt.ylabel('# of Samples', fontsize=6)\n",
    "    plt.title(f'{unit.capitalize()} Length Distribution for {dataset_name}', fontsize=10)\n",
    "    plt.xticks(fontsize=7)\n",
    "    plt.yticks(fontsize=7)\n",
    "    plt.show()"
   ]
  },
  {
   "cell_type": "markdown",
   "id": "41614015",
   "metadata": {},
   "source": [
    "#### Compute Class Weight\n"
   ]
  },
  {
   "cell_type": "code",
   "execution_count": 14,
   "id": "ba064064",
   "metadata": {},
   "outputs": [],
   "source": [
    "def compute_class_weights(dataset, label_column=\"labels\", device=\"cpu\"):\n",
    "    \"\"\"\n",
    "    Compute normalized class weights from a dataset.\n",
    "\n",
    "    Args:\n",
    "        dataset: Hugging Face Dataset split (e.g. dataset[\"train\"])\n",
    "        label_column: name of the label column\n",
    "        device: \"cpu\" or \"cuda\"\n",
    "\n",
    "    Returns:\n",
    "        torch.tensor of class weights\n",
    "    \"\"\"\n",
    "    labels = np.array(dataset[label_column])\n",
    "    class_counts = np.bincount(labels)\n",
    "\n",
    "    class_weights = 1.0 / class_counts\n",
    "    class_weights = class_weights / class_weights.sum() * len(class_counts)\n",
    "\n",
    "    return torch.tensor(class_weights, dtype=torch.float).to(device)"
   ]
  },
  {
   "cell_type": "markdown",
   "id": "21fb481f",
   "metadata": {},
   "source": [
    "### Define reusable classes"
   ]
  },
  {
   "cell_type": "markdown",
   "id": "60a4881a",
   "metadata": {},
   "source": [
    "#### Focal Loss"
   ]
  },
  {
   "cell_type": "code",
   "execution_count": 15,
   "id": "60113973",
   "metadata": {},
   "outputs": [],
   "source": [
    "class FocalLoss(nn.Module):\n",
    "    def __init__(self, alpha=None, gamma=2.0, reduction='mean'):\n",
    "        super().__init__()\n",
    "        self.alpha = alpha\n",
    "        self.gamma = gamma\n",
    "        self.reduction = reduction\n",
    "\n",
    "    def forward(self, logits, targets):\n",
    "        ce_loss = F.cross_entropy(logits, targets, weight=self.alpha, reduction='none')\n",
    "        pt = torch.exp(-ce_loss)\n",
    "        loss = ((1 - pt) ** self.gamma) * ce_loss\n",
    "\n",
    "        if self.reduction == 'mean':\n",
    "            return loss.mean()\n",
    "        elif self.reduction == 'sum':\n",
    "            return loss.sum()\n",
    "        return loss"
   ]
  },
  {
   "cell_type": "markdown",
   "id": "c8c29150",
   "metadata": {},
   "source": [
    "#### Weighted Trainer"
   ]
  },
  {
   "cell_type": "code",
   "execution_count": 16,
   "id": "eaa6f008",
   "metadata": {},
   "outputs": [],
   "source": [
    "class WeightedTrainer(Trainer):\n",
    "    def __init__(self, class_weights=None, *args, **kwargs):\n",
    "        super().__init__(*args, **kwargs)\n",
    "        self.class_weights = class_weights\n",
    "\n",
    "    def compute_loss(self, model, inputs, return_outputs=False, **kwargs):\n",
    "        labels = inputs.get(\"labels\")\n",
    "        outputs = model(**inputs)\n",
    "        logits = outputs.get(\"logits\")\n",
    "        labels = labels.to(logits.device)\n",
    "\n",
    "        loss_fct = FocalLoss(alpha=self.class_weights.to(logits.device))\n",
    "        loss = loss_fct(logits, labels)\n",
    "\n",
    "        return (loss, outputs) if return_outputs else loss"
   ]
  },
  {
   "cell_type": "markdown",
   "id": "78f9ba71",
   "metadata": {},
   "source": [
    "### Train on Dataset (1)"
   ]
  },
  {
   "cell_type": "markdown",
   "id": "05a0d423",
   "metadata": {},
   "source": [
    "#### Load tokenizer and tokenize data"
   ]
  },
  {
   "cell_type": "code",
   "execution_count": 17,
   "id": "8523469c",
   "metadata": {},
   "outputs": [
    {
     "name": "stderr",
     "output_type": "stream",
     "text": [
      "Some weights of XLMRobertaForSequenceClassification were not initialized from the model checkpoint at xlm-roberta-base and are newly initialized: ['classifier.dense.bias', 'classifier.dense.weight', 'classifier.out_proj.bias', 'classifier.out_proj.weight']\n",
      "You should probably TRAIN this model on a down-stream task to be able to use it for predictions and inference.\n"
     ]
    },
    {
     "data": {
      "application/vnd.jupyter.widget-view+json": {
       "model_id": "87c1fb3ad04f40c1a236e9b1478c8f39",
       "version_major": 2,
       "version_minor": 0
      },
      "text/plain": [
       "Map:   0%|          | 0/50349 [00:00<?, ? examples/s]"
      ]
     },
     "metadata": {},
     "output_type": "display_data"
    },
    {
     "data": {
      "application/vnd.jupyter.widget-view+json": {
       "model_id": "ac915d5d82194d8988b551aae7392002",
       "version_major": 2,
       "version_minor": 0
      },
      "text/plain": [
       "Map:   0%|          | 0/12588 [00:00<?, ? examples/s]"
      ]
     },
     "metadata": {},
     "output_type": "display_data"
    },
    {
     "data": {
      "application/vnd.jupyter.widget-view+json": {
       "model_id": "2da27cf59242477da8efa5c29050e043",
       "version_major": 2,
       "version_minor": 0
      },
      "text/plain": [
       "Map:   0%|          | 0/15735 [00:00<?, ? examples/s]"
      ]
     },
     "metadata": {},
     "output_type": "display_data"
    }
   ],
   "source": [
    "# Load tokenizer and model\n",
    "tokenizer_1, model_1 = load_model_and_tokenizer(\n",
    "    model_name= MODEL_NAME,\n",
    "    labels= labels_1,\n",
    "    id2label=id_1_to_label,\n",
    "    label2id=id_1_to_label\n",
    ")\n",
    "\n",
    "# Tokenize dataset\n",
    "dataset_1_broad_emotion = tokenize_dataset(\n",
    "    dataset=dataset_1_broad_emotion,\n",
    "    tokenizer=tokenizer_1,\n",
    "    max_length=256,\n",
    "    num_proc=1\n",
    ")"
   ]
  },
  {
   "cell_type": "markdown",
   "id": "117a2b09",
   "metadata": {},
   "source": [
    "#### Train Model from our first dataset"
   ]
  },
  {
   "cell_type": "code",
   "execution_count": 18,
   "id": "ef4f21f0",
   "metadata": {},
   "outputs": [
    {
     "name": "stderr",
     "output_type": "stream",
     "text": [
      "C:\\Users\\PC\\AppData\\Local\\Temp\\ipykernel_4184\\1698075937.py:51: FutureWarning: `tokenizer` is deprecated and will be removed in version 5.0.0 for `Trainer.__init__`. Use `processing_class` instead.\n",
      "  trainer = Trainer(\n"
     ]
    },
    {
     "data": {
      "text/html": [
       "\n",
       "    <div>\n",
       "      \n",
       "      <progress value='15735' max='15735' style='width:300px; height:20px; vertical-align: middle;'></progress>\n",
       "      [15735/15735 1:04:59, Epoch 5/5]\n",
       "    </div>\n",
       "    <table border=\"1\" class=\"dataframe\">\n",
       "  <thead>\n",
       " <tr style=\"text-align: left;\">\n",
       "      <th>Step</th>\n",
       "      <th>Training Loss</th>\n",
       "      <th>Validation Loss</th>\n",
       "      <th>Accuracy</th>\n",
       "      <th>F1</th>\n",
       "    </tr>\n",
       "  </thead>\n",
       "  <tbody>\n",
       "    <tr>\n",
       "      <td>6500</td>\n",
       "      <td>0.884800</td>\n",
       "      <td>1.038290</td>\n",
       "      <td>0.634573</td>\n",
       "      <td>0.631092</td>\n",
       "    </tr>\n",
       "    <tr>\n",
       "      <td>7000</td>\n",
       "      <td>0.883700</td>\n",
       "      <td>1.051622</td>\n",
       "      <td>0.639577</td>\n",
       "      <td>0.626146</td>\n",
       "    </tr>\n",
       "    <tr>\n",
       "      <td>7500</td>\n",
       "      <td>0.866300</td>\n",
       "      <td>0.923414</td>\n",
       "      <td>0.669685</td>\n",
       "      <td>0.664732</td>\n",
       "    </tr>\n",
       "    <tr>\n",
       "      <td>8000</td>\n",
       "      <td>0.847500</td>\n",
       "      <td>0.929995</td>\n",
       "      <td>0.680092</td>\n",
       "      <td>0.672827</td>\n",
       "    </tr>\n",
       "    <tr>\n",
       "      <td>8500</td>\n",
       "      <td>0.820400</td>\n",
       "      <td>0.891350</td>\n",
       "      <td>0.694868</td>\n",
       "      <td>0.690877</td>\n",
       "    </tr>\n",
       "    <tr>\n",
       "      <td>9000</td>\n",
       "      <td>0.825800</td>\n",
       "      <td>0.824314</td>\n",
       "      <td>0.710597</td>\n",
       "      <td>0.709007</td>\n",
       "    </tr>\n",
       "    <tr>\n",
       "      <td>9500</td>\n",
       "      <td>0.775300</td>\n",
       "      <td>0.858182</td>\n",
       "      <td>0.706943</td>\n",
       "      <td>0.707791</td>\n",
       "    </tr>\n",
       "    <tr>\n",
       "      <td>10000</td>\n",
       "      <td>0.666400</td>\n",
       "      <td>0.844161</td>\n",
       "      <td>0.725294</td>\n",
       "      <td>0.720832</td>\n",
       "    </tr>\n",
       "    <tr>\n",
       "      <td>10500</td>\n",
       "      <td>0.645700</td>\n",
       "      <td>0.804577</td>\n",
       "      <td>0.731967</td>\n",
       "      <td>0.728250</td>\n",
       "    </tr>\n",
       "    <tr>\n",
       "      <td>11000</td>\n",
       "      <td>0.629700</td>\n",
       "      <td>0.802877</td>\n",
       "      <td>0.739514</td>\n",
       "      <td>0.736722</td>\n",
       "    </tr>\n",
       "    <tr>\n",
       "      <td>11500</td>\n",
       "      <td>0.624400</td>\n",
       "      <td>0.806600</td>\n",
       "      <td>0.742215</td>\n",
       "      <td>0.737743</td>\n",
       "    </tr>\n",
       "    <tr>\n",
       "      <td>12000</td>\n",
       "      <td>0.627300</td>\n",
       "      <td>0.796153</td>\n",
       "      <td>0.734509</td>\n",
       "      <td>0.732538</td>\n",
       "    </tr>\n",
       "    <tr>\n",
       "      <td>12500</td>\n",
       "      <td>0.606200</td>\n",
       "      <td>0.763978</td>\n",
       "      <td>0.749206</td>\n",
       "      <td>0.745186</td>\n",
       "    </tr>\n",
       "    <tr>\n",
       "      <td>13000</td>\n",
       "      <td>0.530400</td>\n",
       "      <td>0.777910</td>\n",
       "      <td>0.761201</td>\n",
       "      <td>0.758064</td>\n",
       "    </tr>\n",
       "    <tr>\n",
       "      <td>13500</td>\n",
       "      <td>0.523700</td>\n",
       "      <td>0.757543</td>\n",
       "      <td>0.765253</td>\n",
       "      <td>0.762354</td>\n",
       "    </tr>\n",
       "    <tr>\n",
       "      <td>14000</td>\n",
       "      <td>0.500100</td>\n",
       "      <td>0.771883</td>\n",
       "      <td>0.765491</td>\n",
       "      <td>0.762726</td>\n",
       "    </tr>\n",
       "    <tr>\n",
       "      <td>14500</td>\n",
       "      <td>0.487300</td>\n",
       "      <td>0.760999</td>\n",
       "      <td>0.770257</td>\n",
       "      <td>0.767809</td>\n",
       "    </tr>\n",
       "    <tr>\n",
       "      <td>15000</td>\n",
       "      <td>0.491200</td>\n",
       "      <td>0.760953</td>\n",
       "      <td>0.767239</td>\n",
       "      <td>0.764089</td>\n",
       "    </tr>\n",
       "    <tr>\n",
       "      <td>15500</td>\n",
       "      <td>0.495200</td>\n",
       "      <td>0.752773</td>\n",
       "      <td>0.771608</td>\n",
       "      <td>0.769353</td>\n",
       "    </tr>\n",
       "  </tbody>\n",
       "</table><p>"
      ],
      "text/plain": [
       "<IPython.core.display.HTML object>"
      ]
     },
     "metadata": {},
     "output_type": "display_data"
    },
    {
     "data": {
      "text/plain": [
       "TrainOutput(global_step=15735, training_loss=0.412098902340802, metrics={'train_runtime': 3919.3797, 'train_samples_per_second': 64.231, 'train_steps_per_second': 4.015, 'total_flos': 3.311963574446592e+16, 'train_loss': 0.412098902340802, 'epoch': 5.0})"
      ]
     },
     "execution_count": 18,
     "metadata": {},
     "output_type": "execute_result"
    }
   ],
   "source": [
    "# Set format for PyTorch\n",
    "dataset_1_broad_emotion.set_format(\n",
    "    type=\"torch\",\n",
    "    columns=[\"input_ids\", \"attention_mask\", \"labels\"],\n",
    ")\n",
    "\n",
    "accuracy = evaluate.load(\"accuracy\")\n",
    "f1 = evaluate.load(\"f1\")\n",
    "\n",
    "def compute_metrics(p):\n",
    "    preds = p.predictions.argmax(-1)\n",
    "    acc = accuracy.compute(predictions=preds, references=p.label_ids)\n",
    "    f1_score = f1.compute(predictions=preds, references=p.label_ids, average=\"macro\")\n",
    "    \n",
    "    return {**acc, **f1_score}\n",
    "\n",
    "training_args = TrainingArguments(\n",
    "    output_dir=MODEL_PATH_FINETUNE_1,\n",
    "\n",
    "    # Evaluation & saving\n",
    "    eval_strategy=\"steps\",             # evaluate more frequently\n",
    "    eval_steps=500,                    # evaluate every 500 steps\n",
    "    save_strategy=\"steps\",             # save every eval\n",
    "    save_steps=500,\n",
    "    save_total_limit=3,                # keep last 3 checkpoints\n",
    "\n",
    "    # Optimizer\n",
    "    learning_rate=2e-5,\n",
    "    warmup_ratio=0.1,                  # 10% warmup               \n",
    "    weight_decay=0.05,                 # helps reduce overfitting\n",
    "\n",
    "    # Batch size\n",
    "    per_device_train_batch_size=8,\n",
    "    per_device_eval_batch_size=8,\n",
    "    gradient_accumulation_steps=2,     # effective batch size 16\n",
    "\n",
    "    # Mixed precision\n",
    "    fp16=True,                         # faster training\n",
    "\n",
    "    # Training length\n",
    "    num_train_epochs=5,                # shorter to prevent overfitting\n",
    "    load_best_model_at_end=True,       # load checkpoint with best validation loss\n",
    "    metric_for_best_model=\"f1\",  # choose metric to track best model\n",
    "\n",
    "    # Misc\n",
    "    dataloader_num_workers=4,\n",
    "    # logging_steps=100,                 # logs every 100 steps\n",
    "    # logging_dir=f\"{MODEL_PATH_FINETUNE_1}/logs\"\n",
    ")\n",
    "\n",
    "trainer = Trainer(\n",
    "    model=model_1,\n",
    "    args=training_args,\n",
    "    train_dataset=dataset_1_broad_emotion[\"train\"],\n",
    "    eval_dataset=dataset_1_broad_emotion[\"validation\"],  # <-- use validation here\n",
    "    tokenizer=tokenizer_1,\n",
    "    compute_metrics=compute_metrics,\n",
    ")\n",
    "\n",
    "last_checkpoint = get_last_checkpoint(MODEL_PATH_FINETUNE_1)\n",
    "\n",
    "trainer.train(resume_from_checkpoint=last_checkpoint)"
   ]
  },
  {
   "cell_type": "markdown",
   "id": "30b6d528",
   "metadata": {},
   "source": [
    "#### Save Checkpoint"
   ]
  },
  {
   "cell_type": "code",
   "execution_count": 19,
   "id": "38edd352",
   "metadata": {},
   "outputs": [
    {
     "data": {
      "text/plain": [
       "('../../models/nlp/sentiment_model_1\\\\tokenizer_config.json',\n",
       " '../../models/nlp/sentiment_model_1\\\\special_tokens_map.json',\n",
       " '../../models/nlp/sentiment_model_1\\\\tokenizer.json')"
      ]
     },
     "execution_count": 19,
     "metadata": {},
     "output_type": "execute_result"
    }
   ],
   "source": [
    "model_1.save_pretrained(MODEL_PATH_MODEL_1)\n",
    "tokenizer_1.save_pretrained(MODEL_PATH_MODEL_1)"
   ]
  },
  {
   "cell_type": "markdown",
   "id": "13087df0",
   "metadata": {},
   "source": [
    "#### Load the trained model and then test in the test dataset"
   ]
  },
  {
   "cell_type": "code",
   "execution_count": 26,
   "id": "972f04ae",
   "metadata": {},
   "outputs": [],
   "source": [
    "model_test_1 = AutoModelForSequenceClassification.from_pretrained(MODEL_PATH_MODEL_1)\n",
    "tokenizer_test_1 = AutoTokenizer.from_pretrained(MODEL_PATH_MODEL_1)"
   ]
  },
  {
   "cell_type": "markdown",
   "id": "fd080635",
   "metadata": {},
   "source": [
    "#### Make Predictions "
   ]
  },
  {
   "cell_type": "code",
   "execution_count": 27,
   "id": "35ae8b8e",
   "metadata": {},
   "outputs": [
    {
     "name": "stdout",
     "output_type": "stream",
     "text": [
      "CUDA available: True\n",
      "Current device: 0\n",
      "Device name: NVIDIA GeForce RTX 3060\n"
     ]
    },
    {
     "name": "stderr",
     "output_type": "stream",
     "text": [
      "Evaluating: 100%|██████████| 492/492 [01:55<00:00,  4.25batch/s]\n"
     ]
    }
   ],
   "source": [
    "print(\"CUDA available:\", torch.cuda.is_available())\n",
    "print(\"Current device:\", torch.cuda.current_device())\n",
    "print(\"Device name:\", torch.cuda.get_device_name(0) if torch.cuda.is_available() else \"CPU\")\n",
    "\n",
    "model_test_1.to(\"cuda\") # Ensure that model is loaded in the GPU\n",
    "model_test_1.eval()\n",
    "\n",
    "# Torch DataLoader for test set\n",
    "test_loader = DataLoader(dataset_1_broad_emotion[\"test\"], batch_size=32)  # increase batch size if possible\n",
    "\n",
    "all_preds_1 = []\n",
    "all_labels_1 = []\n",
    "\n",
    "with torch.no_grad():\n",
    "    for batch in tqdm(test_loader, desc=\"Evaluating\", unit=\"batch\"):\n",
    "        # Move to GPU if available\n",
    "        batch = {k: v.to(model_test_1.device) for k, v in batch.items() if k in [\"input_ids\", \"attention_mask\", \"labels\"]}\n",
    "\n",
    "        outputs = model_test_1(input_ids=batch[\"input_ids\"], attention_mask=batch[\"attention_mask\"])\n",
    "        preds = torch.argmax(outputs.logits, dim=-1)\n",
    "\n",
    "        all_preds_1.extend(preds.cpu().numpy())\n",
    "        all_labels_1.extend(batch[\"labels\"].cpu().numpy())\n"
   ]
  },
  {
   "cell_type": "markdown",
   "id": "bb077403",
   "metadata": {},
   "source": [
    "#### Compute Accuracy / F1"
   ]
  },
  {
   "cell_type": "code",
   "execution_count": 28,
   "id": "8b955384",
   "metadata": {},
   "outputs": [
    {
     "name": "stdout",
     "output_type": "stream",
     "text": [
      "Train set accuracy: 0.7722\n",
      "Train set F1: 0.7691\n"
     ]
    }
   ],
   "source": [
    "acc_1 = accuracy_score(all_labels_1, all_preds_1)\n",
    "f1_1 = f1_score(all_labels_1, all_preds_1, average=\"macro\")\n",
    "\n",
    "print(f\"Train set accuracy: {acc_1:.4f}\")\n",
    "print(f\"Train set F1: {f1_1:.4f}\")"
   ]
  },
  {
   "cell_type": "markdown",
   "id": "73b7863c",
   "metadata": {},
   "source": [
    "### Train on Dataset (2)"
   ]
  },
  {
   "cell_type": "markdown",
   "id": "080975ab",
   "metadata": {},
   "source": [
    "#### Load tokenizer and tokenize data"
   ]
  },
  {
   "cell_type": "code",
   "execution_count": 20,
   "id": "8de2242e",
   "metadata": {},
   "outputs": [],
   "source": [
    "# # Load tokenizer and model\n",
    "# tokenizer_2, model_2 = load_model_and_tokenizer(\n",
    "#     model_name= MODEL_NAME,\n",
    "#     labels= labels_2,\n",
    "#     id2label=id_2_to_label,\n",
    "#     label2id=label_2_to_id\n",
    "# )\n",
    "\n",
    "# # Tokenize dataset\n",
    "# dataset_2_specialize = tokenize_dataset(\n",
    "#     dataset=dataset_2_specialize,\n",
    "#     tokenizer=tokenizer_2,\n",
    "#     max_length=256,\n",
    "#     num_proc=1\n",
    "# )"
   ]
  },
  {
   "cell_type": "code",
   "execution_count": 21,
   "id": "0c3fe778",
   "metadata": {},
   "outputs": [],
   "source": [
    "\n",
    "# # Set format for PyTorch\n",
    "# dataset_2_specialize.set_format(\n",
    "#     type=\"torch\",\n",
    "#     columns=[\"input_ids\", \"attention_mask\", \"labels\"],\n",
    "# )\n",
    "\n",
    "# accuracy = evaluate.load(\"accuracy\")\n",
    "# f1 = evaluate.load(\"f1\")\n",
    "\n",
    "# def compute_metrics(p):\n",
    "#     preds = p.predictions.argmax(-1)\n",
    "#     acc = accuracy.compute(predictions=preds, references=p.label_ids)\n",
    "#     f1_score = f1.compute(predictions=preds, references=p.label_ids, average=\"macro\")\n",
    "    \n",
    "#     return {**acc, **f1_score}\n",
    "\n",
    "# training_args = TrainingArguments(\n",
    "#     output_dir=MODEL_PATH_FINETUNE_2,\n",
    "\n",
    "#     # Evaluation & saving\n",
    "#     eval_strategy=\"steps\",             # evaluate more frequently\n",
    "#     eval_steps=500,                    # evaluate every 500 steps\n",
    "#     save_strategy=\"steps\",             # save every eval\n",
    "#     save_steps=500,\n",
    "#     save_total_limit=3,                # keep last 3 checkpoints\n",
    "\n",
    "#     # Optimizer\n",
    "#     learning_rate=2e-5,\n",
    "#     warmup_ratio=0.1,                  # 10% warmup               \n",
    "#     weight_decay=0.05,                 # helps reduce overfitting\n",
    "\n",
    "#     # Batch size\n",
    "#     per_device_train_batch_size=8,\n",
    "#     per_device_eval_batch_size=8,\n",
    "#     gradient_accumulation_steps=2,     # effective batch size 16\n",
    "\n",
    "#     # Mixed precision\n",
    "#     fp16=True,                         # faster training\n",
    "\n",
    "#     # Training length\n",
    "#     num_train_epochs=5,                # shorter to prevent overfitting\n",
    "#     load_best_model_at_end=True,       # load checkpoint with best validation loss\n",
    "#     metric_for_best_model=\"f1\",  # choose metric to track best model\n",
    "\n",
    "#     # Misc\n",
    "#     dataloader_num_workers=4,\n",
    "#     # logging_steps=100,                 # logs every 100 steps\n",
    "#     # logging_dir=f\"{MODEL_PATH_FINETUNE_1}/logs\"\n",
    "# )\n",
    "\n",
    "# trainer = Trainer(\n",
    "#     model=model_2,\n",
    "#     args=training_args,\n",
    "#     train_dataset=dataset_2_specialize[\"train\"],\n",
    "#     eval_dataset=dataset_2_specialize[\"validation\"],  # <-- use validation here\n",
    "#     tokenizer=tokenizer_2,\n",
    "#     compute_metrics=compute_metrics,\n",
    "# )\n",
    "\n",
    "# last_checkpoint = get_last_checkpoint(MODEL_PATH_FINETUNE_2)\n",
    "\n",
    "# trainer.train(resume_from_checkpoint=last_checkpoint)"
   ]
  },
  {
   "cell_type": "markdown",
   "id": "2cf76fe5",
   "metadata": {},
   "source": [
    "#### Save Checkpoint"
   ]
  },
  {
   "cell_type": "code",
   "execution_count": 22,
   "id": "c53a66fb",
   "metadata": {},
   "outputs": [],
   "source": [
    "# model_2.save_pretrained(MODEL_PATH_MODEL_2)\n",
    "# tokenizer_2.save_pretrained(MODEL_PATH_MODEL_2)"
   ]
  },
  {
   "cell_type": "markdown",
   "id": "52d727a5",
   "metadata": {},
   "source": [
    "#### Load trained model and then test it in the test dataset"
   ]
  },
  {
   "cell_type": "code",
   "execution_count": 23,
   "id": "0be7a88d",
   "metadata": {},
   "outputs": [],
   "source": [
    "# model_test = AutoModelForSequenceClassification.from_pretrained(MODEL_PATH_MODEL_2)\n",
    "# tokenizer_test = AutoTokenizer.from_pretrained(MODEL_PATH_MODEL_2)"
   ]
  },
  {
   "cell_type": "markdown",
   "id": "2ff9ee7d",
   "metadata": {},
   "source": [
    "#### Make predictions"
   ]
  },
  {
   "cell_type": "code",
   "execution_count": 24,
   "id": "7c446595",
   "metadata": {},
   "outputs": [],
   "source": [
    "\n",
    "# print(\"CUDA available:\", torch.cuda.is_available())\n",
    "# print(\"Current device:\", torch.cuda.current_device())\n",
    "# print(\"Device name:\", torch.cuda.get_device_name(0) if torch.cuda.is_available() else \"CPU\")\n",
    "\n",
    "# model_test.to(\"cuda\") # Ensure that model is loaded in the GPU\n",
    "# model_test.eval()\n",
    "\n",
    "# # Torch DataLoader for test set\n",
    "# test_loader = DataLoader(dataset_2_specialize[\"test\"], batch_size=32)  # increase batch size if possible\n",
    "\n",
    "# all_preds = []\n",
    "# all_labels = []\n",
    "\n",
    "# with torch.no_grad():\n",
    "#     for batch in tqdm(test_loader, desc=\"Evaluating\", unit=\"batch\"):\n",
    "#         # Move to GPU if available\n",
    "#         batch = {k: v.to(model_test.device) for k, v in batch.items() if k in [\"input_ids\", \"attention_mask\", \"labels\"]}\n",
    "\n",
    "#         outputs = model_test(input_ids=batch[\"input_ids\"], attention_mask=batch[\"attention_mask\"])\n",
    "#         preds = torch.argmax(outputs.logits, dim=-1)\n",
    "\n",
    "#         all_preds.extend(preds.cpu().numpy())\n",
    "#         all_labels.extend(batch[\"labels\"].cpu().numpy())\n"
   ]
  },
  {
   "cell_type": "markdown",
   "id": "15752fc9",
   "metadata": {},
   "source": [
    "#### Compute Accuracy / F1"
   ]
  },
  {
   "cell_type": "code",
   "execution_count": 25,
   "id": "c96d2e34",
   "metadata": {},
   "outputs": [],
   "source": [
    "# acc = accuracy_score(all_labels, all_preds)\n",
    "# f1 = f1_score(all_labels, all_preds, average=\"macro\")\n",
    "\n",
    "# print(f\"Train set accuracy: {acc:.4f}\")\n",
    "# print(f\"Train set F1: {f1:.4f}\")"
   ]
  }
 ],
 "metadata": {
  "kernelspec": {
   "display_name": "heron-wellnest-ml",
   "language": "python",
   "name": "python3"
  },
  "language_info": {
   "codemirror_mode": {
    "name": "ipython",
    "version": 3
   },
   "file_extension": ".py",
   "mimetype": "text/x-python",
   "name": "python",
   "nbconvert_exporter": "python",
   "pygments_lexer": "ipython3",
   "version": "3.12.0"
  }
 },
 "nbformat": 4,
 "nbformat_minor": 5
}
