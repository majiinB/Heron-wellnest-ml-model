{
 "cells": [
  {
   "cell_type": "markdown",
   "id": "47361cbd",
   "metadata": {},
   "source": [
    "# **Synthetic Data Generation**\n",
    "---"
   ]
  },
  {
   "cell_type": "markdown",
   "id": "45b09501",
   "metadata": {},
   "source": [
    "## **Basis for Synthetic Dataset Rules**\n",
    "\n",
    "This synthetic dataset generator simulates student well-being classifications based on heuristic rules, class imbalance, and outliers. These design choices mirror real-world conditions where mental health data is often noisy, imbalanced, and influenced by overlapping emotional states.\n",
    "\n",
    "**1. Heuristic Labeling Rules**\n",
    "The rules map probability distributions (from NLP model outputs) into broader well-being categories.\n",
    "  - InCrisis\n",
    "    - Condition:\n",
    "      - `p_depression > 0.5 AND p_suicidal > 0.3`\n",
    "      - or `p_anxiety > 0.4 AND p_stress > 0.4`\n",
    "    - Rationale: Crisis states often combine multiple extreme symptoms (e.g., severe depression + suicidal thoughts, or high anxiety + high stress).\n",
    "  - Struggling\n",
    "    - Condition:\n",
    "      - `p_depression > 0.3 OR p_anxiety > 0.3`\n",
    "    - Rationale: Moderate depression or anxiety indicates difficulty coping, but not yet at crisis level.\n",
    "  - Surviving\n",
    "    - Condition:\n",
    "      - `0.2 < p_anxiety < 0.4 OR 0.2 < p_stress < 0.4`\n",
    "    - Rationale: Lower but noticeable emotional strain. Individuals are functioning but showing warning signs.\n",
    "  - Excelling\n",
    "    - Condition:\n",
    "      - `p_normal > 0.7 AND all negative emotions < 0.1`\n",
    "    - Rationale: High positive baseline with minimal distress → thriving beyond stability.\n",
    "  - Thriving\n",
    "    - Condition:\n",
    "      - `p_normal > 0.5 AND all negatives < 0.2`\n",
    "    - Rationale: Balanced and healthy state, showing resilience but not peak performance.\n",
    "  - Fallback → Surviving\n",
    "    - Used when no clear condition is met. Prevents undefined cases.\n",
    "\n",
    "**2. Class Imbalance**\n",
    "  - Implementation: Only a portion (`imbalance_ratio`, e.g., 20%) of \"InCrisis\" rows are retained.\n",
    "  - Rationale:\n",
    "    - In real student populations, severe crisis cases are rarer than normal or moderate distress cases.\n",
    "    - Mimics natural skewed distribution found in mental health datasets.\n",
    "    - Prepares ML models to handle minority vs majority class trade-offs.\n",
    "\n",
    "**3. Class Imbalance**\n",
    "  - Implementation: A fraction (`outlier_ratio`, e.g., 2%) of rows are assigned extreme probability values (e.g., negative or >1).\n",
    "  - Rationale:\n",
    "    - Simulates data entry errors, corrupted sensor logs, or NLP misclassifications.\n",
    "    - Helps ensure models are robust against noise and not overly sensitive to perfect inputs.\n",
    "    - Encourages the need for data preprocessing (clipping, normalization) in real deployment.\n",
    "\n",
    "---"
   ]
  },
  {
   "cell_type": "markdown",
   "id": "dbe04b9e",
   "metadata": {},
   "source": [
    "## **Basis for data generation**\n",
    "\n",
    "### **Model 1: Proposed Synthetic Dataset Distribution**\n",
    "\n",
    "Based on the research into the prevalence of mental health conditions among Filipino university students and young adults, this document proposes a more realistic and balanced distribution for your synthetic dataset. This model, designated as \"Model 1,\" moves away from the assumption that \"In Crisis\" cases are extremely rare, providing a data-backed foundation for generating a more representative dataset. The percentages are inferred from various academic studies and reports, and while not a direct one-to-one mapping to the Delphis continuum, they provide a strong, citable reference for your project.\n",
    "\n",
    "The distribution is as follows:\n",
    "\n",
    "* **Excelling:** **3-5%**\n",
    "* **Thriving:** **7-10%**\n",
    "* **Surviving:** **35-45%**\n",
    "* **Struggling:** **25-30%**\n",
    "* **In Crisis:** **15-20%**\n",
    "\n",
    "#### **Rationale and Research-Backed Justification:**\n",
    "\n",
    "This model maintains the strong, evidence-based percentages from the previous version while logically dividing the top tier into \"Excelling\" and \"Thriving.\"\n",
    "\n",
    "* **Excelling (3-5%) & Thriving (7-10%):** These two categories are derived from the \"Flourishing\" category of the AXA Mind Health Report. The report found that only **15%** of young people in Asia are \"flourishing.\" We propose splitting this group to reflect different levels of well-being. \"Excelling\" represents the highest tier of this category—the true high-performers—and therefore receives a smaller portion (3-5%). \"Thriving\" represents the remaining portion of the flourishing group (7-10%) and encompasses individuals who are doing very well but not necessarily at their absolute peak.\n",
    "\n",
    "* **Surviving (35-45%):** This category aligns directly with the \"Getting By\" classification in the research. The AXA study found that the Philippines has the largest proportion globally of people \"getting by\" at **39%**. This represents a significant portion of the student population and is a crucial category for your model to be trained on.\n",
    "\n",
    "* **Struggling (25-30%):** This range is well-supported by studies showing a high prevalence of mental health symptoms in the student population. Research from Mendoza et al. (2021) found that **over 23%** of a large sample of Filipino university students reported severe anxiety symptoms. This percentage range accurately captures the large portion of students who are experiencing significant distress.\n",
    "\n",
    "* **In Crisis (15-20%):** This category, while representing a high number, is a more accurate reflection of the current mental health landscape than a sub-1% figure. This range is justified by the high rates of related issues, such as the **24% prevalence of suicide ideation** among university students in Manila (Tria, 2015). A higher percentage allows the model to be more sensitive to a broader definition of \"in crisis,\" which includes not only immediate suicidal risk but also severe clinical distress.\n",
    "\n",
    "This model provides a comprehensive, research-backed framework for generating a representative synthetic dataset that will allow your machine learning models to be more effective and ethically responsible.\n",
    "\n",
    "---\n",
    "### **References:**\n",
    "\n",
    "* **Mendoza, N. B., et al. (2021).** Mental Health Status and Help-Seeking Behavior of Filipino University Students During the COVID-19 Pandemic. *Transactions of the National Academy of Science and Technology, 43*(2).\n",
    "* **Tria, A. (2015).** A Multivariate Analysis of Suicide Ideation Among University Students in the Philippines. *Asia Pacific Social Science Review, 15*(1), 1-13.\n",
    "* **AXA. (2022).** *[AXA Mind Health Report](https://www.axa.com.ph/multimedia/newsroom/gen-z-pinoys-have-more-mind-health-conditions)*\n",
    "* **AXA. (2024).** *[AXA Mind Health Report: Higher work stress seen among Millennials and Gen Zs](https://pop.inquirer.net/369115/axa-mind-health-report-higher-work-stress-seen-among-millennials-and-gen-zs)*\n",
    "\n",
    "---"
   ]
  },
  {
   "cell_type": "markdown",
   "id": "7291d230",
   "metadata": {},
   "source": [
    "## **Setup & Imports**"
   ]
  },
  {
   "cell_type": "code",
   "execution_count": 2,
   "id": "4b887fc3",
   "metadata": {},
   "outputs": [],
   "source": [
    "import numpy as np\n",
    "import pandas as pd\n",
    "import os"
   ]
  },
  {
   "cell_type": "markdown",
   "id": "118c8ca5",
   "metadata": {},
   "source": [
    "---\n",
    "## **Configurations**"
   ]
  },
  {
   "cell_type": "code",
   "execution_count": 3,
   "id": "3a971417",
   "metadata": {},
   "outputs": [],
   "source": [
    "DATA_PATH = \"../../data/classification/synthetic_dataset.csv\""
   ]
  },
  {
   "cell_type": "markdown",
   "id": "90bd8428",
   "metadata": {},
   "source": [
    "---\n",
    "## **Data Generation**"
   ]
  },
  {
   "cell_type": "code",
   "execution_count": 4,
   "id": "36c4c0ee",
   "metadata": {},
   "outputs": [],
   "source": [
    "def generate_sample(\n",
    "    n=1000,\n",
    "    save_path=\"synthetic_dataset.csv\",\n",
    "    outlier_ratio=0.02,\n",
    "    distribution={\n",
    "        \"Excelling\": (0.03, 0.05),\n",
    "        \"Thriving\": (0.07, 0.10),\n",
    "        \"Surviving\": (0.35, 0.45),\n",
    "        \"Struggling\": (0.25, 0.30),\n",
    "        \"InCrisis\": (0.15, 0.20),\n",
    "    }\n",
    "):\n",
    "    rows = []\n",
    "    for _ in range(n * 2):  # oversample first, we’ll trim later\n",
    "        scores = np.random.rand(5)\n",
    "        probs = scores / scores.sum()\n",
    "        p_anx, p_norm, p_dep, p_sui, p_str = probs\n",
    "\n",
    "        # Apply heuristic rules\n",
    "        if (p_dep > 0.5 and p_sui > 0.3) or (p_anx > 0.4 and p_str > 0.4):\n",
    "            label = \"InCrisis\"\n",
    "        elif p_dep > 0.3 or p_anx > 0.3:\n",
    "            label = \"Struggling\"\n",
    "        elif 0.2 < p_anx < 0.4 or 0.2 < p_str < 0.4:\n",
    "            label = \"Surviving\"\n",
    "        elif p_norm > 0.7 and max(p_anx, p_dep, p_sui, p_str) < 0.1:\n",
    "            label = \"Excelling\"\n",
    "        elif p_norm > 0.5 and max(p_anx, p_dep, p_sui, p_str) < 0.2:\n",
    "            label = \"Thriving\"\n",
    "        else:\n",
    "            label = \"Surviving\"  # fallback\n",
    "\n",
    "        rows.append({\n",
    "            \"p_anxiety\": p_anx,\n",
    "            \"p_normal\": p_norm,\n",
    "            \"p_depression\": p_dep,\n",
    "            \"p_suicidal\": p_sui,\n",
    "            \"p_stress\": p_str,\n",
    "            \"WellbeingClass\": label\n",
    "        })\n",
    "    \n",
    "    df = pd.DataFrame(rows)\n",
    "\n",
    "    # --- Enforce target distribution ---\n",
    "    final_rows = []\n",
    "    for label, (low, high) in distribution.items():\n",
    "        target_frac = np.random.uniform(low, high)\n",
    "        target_n = int(n * target_frac)\n",
    "\n",
    "        subset = df[df[\"WellbeingClass\"] == label]\n",
    "        if len(subset) < target_n:\n",
    "            # oversample with replacement if not enough\n",
    "            sampled = subset.sample(n=target_n, replace=True, random_state=42)\n",
    "        else:\n",
    "            # downsample if too many\n",
    "            sampled = subset.sample(n=target_n, replace=False, random_state=42)\n",
    "\n",
    "        final_rows.append(sampled)\n",
    "\n",
    "    df = pd.concat(final_rows).sample(frac=1, random_state=42).reset_index(drop=True)\n",
    "\n",
    "    # --- Inject outliers ---\n",
    "    n_outliers = int(len(df) * outlier_ratio)\n",
    "    outlier_indices = np.random.choice(df.index, size=n_outliers, replace=False)\n",
    "\n",
    "    for col in [\"p_anxiety\", \"p_normal\", \"p_depression\", \"p_suicidal\", \"p_stress\"]:\n",
    "        df.loc[outlier_indices, col] = df.loc[outlier_indices, col].apply(\n",
    "            lambda x: x * np.random.choice([-5, 10])\n",
    "        )\n",
    "\n",
    "    # Ensure directory exists\n",
    "    os.makedirs(os.path.dirname(save_path), exist_ok=True)\n",
    "\n",
    "    # Save only if file doesn't exist\n",
    "    if not os.path.exists(save_path):\n",
    "        df.to_csv(save_path, index=False)\n",
    "        print(f\"✅ Dataset generated and saved to {save_path}\")\n",
    "    else:\n",
    "        print(f\"⚠️ File already exists at {save_path}. Skipping save.\")\n",
    "\n",
    "    return df"
   ]
  },
  {
   "cell_type": "code",
   "execution_count": 5,
   "id": "443769ca",
   "metadata": {},
   "outputs": [
    {
     "name": "stdout",
     "output_type": "stream",
     "text": [
      "✅ Dataset generated and saved to ../../data/classification/synthetic_dataset.csv\n",
      "   p_anxiety  p_normal  p_depression  p_suicidal  p_stress WellbeingClass\n",
      "0   0.334127  0.293177      0.134766    0.008255  0.229675     Struggling\n",
      "1   0.070999  0.183029      0.288366    0.358976  0.098631      Surviving\n",
      "2   0.053555  0.689150      0.137887    0.119279  0.000129       Thriving\n",
      "3   0.082681  0.544932      0.053853    0.134588  0.183945       Thriving\n",
      "4   0.152601  0.099171      0.361759    0.131337  0.255133     Struggling\n"
     ]
    }
   ],
   "source": [
    "df = generate_sample(5000, save_path=DATA_PATH)\n",
    "print(df.head())"
   ]
  }
 ],
 "metadata": {
  "kernelspec": {
   "display_name": "heron-wellnest-ml",
   "language": "python",
   "name": "python3"
  },
  "language_info": {
   "codemirror_mode": {
    "name": "ipython",
    "version": 3
   },
   "file_extension": ".py",
   "mimetype": "text/x-python",
   "name": "python",
   "nbconvert_exporter": "python",
   "pygments_lexer": "ipython3",
   "version": "3.12.0"
  }
 },
 "nbformat": 4,
 "nbformat_minor": 5
}
