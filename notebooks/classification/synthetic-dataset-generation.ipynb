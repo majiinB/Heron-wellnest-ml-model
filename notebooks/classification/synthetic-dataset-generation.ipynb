{
 "cells": [
  {
   "cell_type": "markdown",
   "id": "47361cbd",
   "metadata": {},
   "source": [
    "# **Synthetic Data Generation**\n",
    "---"
   ]
  },
  {
   "cell_type": "markdown",
   "id": "45b09501",
   "metadata": {},
   "source": [
    "## **Basis for Synthetic Dataset Rules**\n",
    "\n",
    "This synthetic dataset generator simulates student well-being classifications based on heuristic rules, class imbalance, and outliers. These design choices mirror real-world conditions where mental health data is often noisy, imbalanced, and influenced by overlapping emotional states.\n",
    "\n",
    "**1. Heuristic Labeling Rules**\n",
    "The rules map probability distributions (from NLP model outputs) into broader well-being categories.\n",
    "  - InCrisis\n",
    "    - Condition:\n",
    "      - `p_depression > 0.5 AND p_suicidal > 0.3`\n",
    "      - or `p_anxiety > 0.4 AND p_stress > 0.4`\n",
    "    - Rationale: Crisis states often combine multiple extreme symptoms (e.g., severe depression + suicidal thoughts, or high anxiety + high stress).\n",
    "  - Struggling\n",
    "    - Condition:\n",
    "      - `p_depression > 0.3 OR p_anxiety > 0.3`\n",
    "    - Rationale: Moderate depression or anxiety indicates difficulty coping, but not yet at crisis level.\n",
    "  - Surviving\n",
    "    - Condition:\n",
    "      - `0.2 < p_anxiety < 0.4 OR 0.2 < p_stress < 0.4`\n",
    "    - Rationale: Lower but noticeable emotional strain. Individuals are functioning but showing warning signs.\n",
    "  - Excelling\n",
    "    - Condition:\n",
    "      - `p_normal > 0.7 AND all negative emotions < 0.1`\n",
    "    - Rationale: High positive baseline with minimal distress → thriving beyond stability.\n",
    "  - Thriving\n",
    "    - Condition:\n",
    "      - `p_normal > 0.5 AND all negatives < 0.2`\n",
    "    - Rationale: Balanced and healthy state, showing resilience but not peak performance.\n",
    "  - Fallback → Surviving\n",
    "    - Used when no clear condition is met. Prevents undefined cases.\n",
    "\n",
    "**2. Class Imbalance**\n",
    "  - Implementation: Only a portion (`imbalance_ratio`, e.g., 20%) of \"InCrisis\" rows are retained.\n",
    "  - Rationale:\n",
    "    - In real student populations, severe crisis cases are rarer than normal or moderate distress cases.\n",
    "    - Mimics natural skewed distribution found in mental health datasets.\n",
    "    - Prepares ML models to handle minority vs majority class trade-offs.\n",
    "\n",
    "**3. Class Imbalance**\n",
    "  - Implementation: A fraction (`outlier_ratio`, e.g., 2%) of rows are assigned extreme probability values (e.g., negative or >1).\n",
    "  - Rationale:\n",
    "    - Simulates data entry errors, corrupted sensor logs, or NLP misclassifications.\n",
    "    - Helps ensure models are robust against noise and not overly sensitive to perfect inputs.\n",
    "    - Encourages the need for data preprocessing (clipping, normalization) in real deployment.\n",
    "\n",
    "---"
   ]
  },
  {
   "cell_type": "markdown",
   "id": "7291d230",
   "metadata": {},
   "source": [
    "## **Setup & Imports**"
   ]
  },
  {
   "cell_type": "code",
   "execution_count": 5,
   "id": "4b887fc3",
   "metadata": {},
   "outputs": [],
   "source": [
    "import numpy as np\n",
    "import pandas as pd\n",
    "import os"
   ]
  },
  {
   "cell_type": "markdown",
   "id": "118c8ca5",
   "metadata": {},
   "source": [
    "-\n",
    "## **Configurations**"
   ]
  },
  {
   "cell_type": "code",
   "execution_count": 6,
   "id": "3a971417",
   "metadata": {},
   "outputs": [],
   "source": [
    "DATA_PATH = \"../../data/classification/synthetic_dataset.csv\""
   ]
  },
  {
   "cell_type": "code",
   "execution_count": 7,
   "id": "36c4c0ee",
   "metadata": {},
   "outputs": [],
   "source": [
    "def generate_sample(n=1000, save_path=\"synthetic_dataset.csv\", imbalance_ratio=0.2, outlier_ratio=0.02):\n",
    "    rows = []\n",
    "    for _ in range(n):\n",
    "        # Random raw scores\n",
    "        scores = np.random.rand(5)\n",
    "        probs = scores / scores.sum()  # normalize to probs\n",
    "        p_anx, p_norm, p_dep, p_sui, p_str = probs\n",
    "        \n",
    "        # Apply heuristic rules \n",
    "        if (p_dep > 0.5 and p_sui > 0.3) or (p_anx > 0.4 and p_str > 0.4):\n",
    "            label = \"InCrisis\"\n",
    "        elif p_dep > 0.3 or p_anx > 0.3:\n",
    "            label = \"Struggling\"\n",
    "        elif 0.2 < p_anx < 0.4 or 0.2 < p_str < 0.4:\n",
    "            label = \"Surviving\"\n",
    "        elif p_norm > 0.7 and max(p_anx, p_dep, p_sui, p_str) < 0.1:\n",
    "            label = \"Excelling\"\n",
    "        elif p_norm > 0.5 and max(p_anx, p_dep, p_sui, p_str) < 0.2:\n",
    "            label = \"Thriving\"\n",
    "        else:\n",
    "            label = \"Surviving\"  # fallback\n",
    "\n",
    "        rows.append({\n",
    "            \"p_anxiety\": p_anx,\n",
    "            \"p_normal\": p_norm,\n",
    "            \"p_depression\": p_dep,\n",
    "            \"p_suicidal\": p_sui,\n",
    "            \"p_stress\": p_str,\n",
    "            \"WellbeingClass\": label\n",
    "        })\n",
    "    \n",
    "    df = pd.DataFrame(rows)\n",
    "\n",
    "    # --- 1. Introduce class imbalance ---\n",
    "    # Keep fewer rows of \"InCrisis\" and \"Struggling\"\n",
    "    crisis_df = df[df[\"WellbeingClass\"] == \"InCrisis\"]\n",
    "    other_df = df[df[\"WellbeingClass\"] != \"InCrisis\"]\n",
    "    \n",
    "    # downsample crisis class (only keep imbalance_ratio portion)\n",
    "    # crisis_df = crisis_df.sample(frac=imbalance_ratio, random_state=42) if not crisis_df.empty else crisis_df\n",
    "    # Keep all InCrisis (no downsampling)\n",
    "    crisis_df = df[df[\"WellbeingClass\"] == \"InCrisis\"]\n",
    "\n",
    "    \n",
    "    df = pd.concat([other_df, crisis_df]).sample(frac=1, random_state=42).reset_index(drop=True)\n",
    "\n",
    "    # --- 2. Inject outliers ---\n",
    "    n_outliers = int(len(df) * outlier_ratio)\n",
    "    outlier_indices = np.random.choice(df.index, size=n_outliers, replace=False)\n",
    "\n",
    "    for col in [\"p_anxiety\", \"p_normal\", \"p_depression\", \"p_suicidal\", \"p_stress\"]:\n",
    "        # Add extreme values (negative or >1)\n",
    "        df.loc[outlier_indices, col] = df.loc[outlier_indices, col].apply(\n",
    "            lambda x: x * np.random.choice([-5, 10])  # either big negative or very large positive\n",
    "        )\n",
    "\n",
    "    # Ensure directory exists before saving\n",
    "    os.makedirs(os.path.dirname(save_path), exist_ok=True)\n",
    "\n",
    "    # Save only if file doesn't already exist\n",
    "    if not os.path.exists(save_path):\n",
    "        df.to_csv(save_path, index=False)\n",
    "        print(f\"✅ Dataset generated and saved to {save_path}\")\n",
    "    else:\n",
    "        print(f\"⚠️ File already exists at {save_path}. Skipping save to avoid overwrite.\")\n",
    "\n",
    "    return df\n"
   ]
  },
  {
   "cell_type": "code",
   "execution_count": 8,
   "id": "443769ca",
   "metadata": {},
   "outputs": [
    {
     "name": "stdout",
     "output_type": "stream",
     "text": [
      "✅ Dataset generated and saved to ../../data/classification/synthetic_dataset.csv\n",
      "   p_anxiety  p_normal  p_depression  p_suicidal  p_stress WellbeingClass\n",
      "0   0.223137  0.063689      0.039086    0.344513  0.329575      Surviving\n",
      "1   0.630235  0.097685      0.099072    0.076411  0.096598     Struggling\n",
      "2   0.115375  0.245810      0.203670    0.372431  0.062714      Surviving\n",
      "3   0.140653  0.355253      0.123620    0.327314  0.053161      Surviving\n",
      "4   0.186365  0.179734      0.172448    0.232823  0.228629      Surviving\n"
     ]
    }
   ],
   "source": [
    "df = generate_sample(5000, save_path=DATA_PATH)\n",
    "print(df.head())"
   ]
  }
 ],
 "metadata": {
  "kernelspec": {
   "display_name": "heron-wellnest-ml",
   "language": "python",
   "name": "python3"
  },
  "language_info": {
   "codemirror_mode": {
    "name": "ipython",
    "version": 3
   },
   "file_extension": ".py",
   "mimetype": "text/x-python",
   "name": "python",
   "nbconvert_exporter": "python",
   "pygments_lexer": "ipython3",
   "version": "3.12.0"
  }
 },
 "nbformat": 4,
 "nbformat_minor": 5
}
